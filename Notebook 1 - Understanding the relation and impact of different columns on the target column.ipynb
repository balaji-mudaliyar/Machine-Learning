{
 "cells": [
  {
   "cell_type": "code",
   "execution_count": 2,
   "metadata": {
    "scrolled": true
   },
   "outputs": [
    {
     "data": {
      "text/html": [
       "<div>\n",
       "<style>\n",
       "    .dataframe thead tr:only-child th {\n",
       "        text-align: right;\n",
       "    }\n",
       "\n",
       "    .dataframe thead th {\n",
       "        text-align: left;\n",
       "    }\n",
       "\n",
       "    .dataframe tbody tr th {\n",
       "        vertical-align: top;\n",
       "    }\n",
       "</style>\n",
       "<table border=\"1\" class=\"dataframe\">\n",
       "  <thead>\n",
       "    <tr style=\"text-align: right;\">\n",
       "      <th></th>\n",
       "      <th>meanfreq</th>\n",
       "      <th>sd</th>\n",
       "      <th>median</th>\n",
       "      <th>Q25</th>\n",
       "      <th>Q75</th>\n",
       "      <th>IQR</th>\n",
       "      <th>mode</th>\n",
       "      <th>meanfun</th>\n",
       "      <th>minfun</th>\n",
       "      <th>maxfun</th>\n",
       "      <th>sp.ent</th>\n",
       "      <th>label</th>\n",
       "    </tr>\n",
       "  </thead>\n",
       "  <tbody>\n",
       "    <tr>\n",
       "      <th>0</th>\n",
       "      <td>0.091988</td>\n",
       "      <td>0.064241</td>\n",
       "      <td>0.032027</td>\n",
       "      <td>0.058748</td>\n",
       "      <td>0.018264</td>\n",
       "      <td>0.075122</td>\n",
       "      <td>0.000000</td>\n",
       "      <td>NaN</td>\n",
       "      <td>2.000000</td>\n",
       "      <td>0.275862</td>\n",
       "      <td>0.893369</td>\n",
       "      <td>male</td>\n",
       "    </tr>\n",
       "    <tr>\n",
       "      <th>1</th>\n",
       "      <td>0.066009</td>\n",
       "      <td>0.067310</td>\n",
       "      <td>0.040229</td>\n",
       "      <td>0.019414</td>\n",
       "      <td>0.092666</td>\n",
       "      <td>0.073252</td>\n",
       "      <td>0.000000</td>\n",
       "      <td>0.107937</td>\n",
       "      <td>0.015826</td>\n",
       "      <td>0.250000</td>\n",
       "      <td>0.892193</td>\n",
       "      <td>male</td>\n",
       "    </tr>\n",
       "    <tr>\n",
       "      <th>2</th>\n",
       "      <td>0.077316</td>\n",
       "      <td>0.083829</td>\n",
       "      <td>0.036718</td>\n",
       "      <td>0.008701</td>\n",
       "      <td>0.131908</td>\n",
       "      <td>0.123207</td>\n",
       "      <td>0.000000</td>\n",
       "      <td>0.098706</td>\n",
       "      <td>0.015656</td>\n",
       "      <td>4.000000</td>\n",
       "      <td>0.846389</td>\n",
       "      <td>male</td>\n",
       "    </tr>\n",
       "    <tr>\n",
       "      <th>3</th>\n",
       "      <td>0.151228</td>\n",
       "      <td>0.072111</td>\n",
       "      <td>0.158011</td>\n",
       "      <td>0.096582</td>\n",
       "      <td>0.207955</td>\n",
       "      <td>0.111374</td>\n",
       "      <td>0.083878</td>\n",
       "      <td>0.088965</td>\n",
       "      <td>0.017798</td>\n",
       "      <td>0.250000</td>\n",
       "      <td>0.963322</td>\n",
       "      <td>male</td>\n",
       "    </tr>\n",
       "    <tr>\n",
       "      <th>4</th>\n",
       "      <td>0.135120</td>\n",
       "      <td>0.079146</td>\n",
       "      <td>0.124656</td>\n",
       "      <td>0.078720</td>\n",
       "      <td>0.206045</td>\n",
       "      <td>0.127325</td>\n",
       "      <td>0.104261</td>\n",
       "      <td>0.106398</td>\n",
       "      <td>0.016931</td>\n",
       "      <td>0.266667</td>\n",
       "      <td>0.971955</td>\n",
       "      <td>male</td>\n",
       "    </tr>\n",
       "  </tbody>\n",
       "</table>\n",
       "</div>"
      ],
      "text/plain": [
       "   meanfreq        sd    median       Q25       Q75       IQR      mode  \\\n",
       "0  0.091988  0.064241  0.032027  0.058748  0.018264  0.075122  0.000000   \n",
       "1  0.066009  0.067310  0.040229  0.019414  0.092666  0.073252  0.000000   \n",
       "2  0.077316  0.083829  0.036718  0.008701  0.131908  0.123207  0.000000   \n",
       "3  0.151228  0.072111  0.158011  0.096582  0.207955  0.111374  0.083878   \n",
       "4  0.135120  0.079146  0.124656  0.078720  0.206045  0.127325  0.104261   \n",
       "\n",
       "    meanfun    minfun    maxfun    sp.ent label  \n",
       "0       NaN  2.000000  0.275862  0.893369  male  \n",
       "1  0.107937  0.015826  0.250000  0.892193  male  \n",
       "2  0.098706  0.015656  4.000000  0.846389  male  \n",
       "3  0.088965  0.017798  0.250000  0.963322  male  \n",
       "4  0.106398  0.016931  0.266667  0.971955  male  "
      ]
     },
     "execution_count": 2,
     "metadata": {},
     "output_type": "execute_result"
    }
   ],
   "source": [
    "%matplotlib inline\n",
    "import pandas as pd\n",
    "import numpy as np\n",
    "import seaborn as sns\n",
    "import matplotlib.pyplot as plt\n",
    "\n",
    "df = pd.read_csv('/Users/neelambabel/ADS Folder/Assignment 1/voice.csv')\n",
    "df.head()\n",
    "\n"
   ]
  },
  {
   "cell_type": "code",
   "execution_count": 3,
   "metadata": {},
   "outputs": [
    {
     "data": {
      "text/html": [
       "<div>\n",
       "<style>\n",
       "    .dataframe thead tr:only-child th {\n",
       "        text-align: right;\n",
       "    }\n",
       "\n",
       "    .dataframe thead th {\n",
       "        text-align: left;\n",
       "    }\n",
       "\n",
       "    .dataframe tbody tr th {\n",
       "        vertical-align: top;\n",
       "    }\n",
       "</style>\n",
       "<table border=\"1\" class=\"dataframe\">\n",
       "  <thead>\n",
       "    <tr style=\"text-align: right;\">\n",
       "      <th></th>\n",
       "      <th>meanfreq</th>\n",
       "      <th>sd</th>\n",
       "      <th>median</th>\n",
       "      <th>Q25</th>\n",
       "      <th>Q75</th>\n",
       "      <th>IQR</th>\n",
       "      <th>mode</th>\n",
       "      <th>meanfun</th>\n",
       "      <th>minfun</th>\n",
       "      <th>maxfun</th>\n",
       "      <th>sp.ent</th>\n",
       "    </tr>\n",
       "  </thead>\n",
       "  <tbody>\n",
       "    <tr>\n",
       "      <th>count</th>\n",
       "      <td>3167.000000</td>\n",
       "      <td>3166.000000</td>\n",
       "      <td>3167.000000</td>\n",
       "      <td>3167.000000</td>\n",
       "      <td>3167.000000</td>\n",
       "      <td>3167.000000</td>\n",
       "      <td>3167.000000</td>\n",
       "      <td>3166.000000</td>\n",
       "      <td>3167.000000</td>\n",
       "      <td>3167.000000</td>\n",
       "      <td>3168.000000</td>\n",
       "    </tr>\n",
       "    <tr>\n",
       "      <th>mean</th>\n",
       "      <td>0.180791</td>\n",
       "      <td>0.057111</td>\n",
       "      <td>0.185613</td>\n",
       "      <td>0.140490</td>\n",
       "      <td>0.224733</td>\n",
       "      <td>0.084299</td>\n",
       "      <td>0.165252</td>\n",
       "      <td>0.142822</td>\n",
       "      <td>0.037423</td>\n",
       "      <td>0.260016</td>\n",
       "      <td>0.895127</td>\n",
       "    </tr>\n",
       "    <tr>\n",
       "      <th>std</th>\n",
       "      <td>0.030268</td>\n",
       "      <td>0.016647</td>\n",
       "      <td>0.036363</td>\n",
       "      <td>0.048649</td>\n",
       "      <td>0.023800</td>\n",
       "      <td>0.042786</td>\n",
       "      <td>0.077197</td>\n",
       "      <td>0.032297</td>\n",
       "      <td>0.039828</td>\n",
       "      <td>0.072968</td>\n",
       "      <td>0.044980</td>\n",
       "    </tr>\n",
       "    <tr>\n",
       "      <th>min</th>\n",
       "      <td>0.000000</td>\n",
       "      <td>0.018363</td>\n",
       "      <td>0.010975</td>\n",
       "      <td>0.000229</td>\n",
       "      <td>0.018264</td>\n",
       "      <td>0.014558</td>\n",
       "      <td>0.000000</td>\n",
       "      <td>0.055565</td>\n",
       "      <td>0.009775</td>\n",
       "      <td>0.103093</td>\n",
       "      <td>0.738651</td>\n",
       "    </tr>\n",
       "    <tr>\n",
       "      <th>25%</th>\n",
       "      <td>0.163628</td>\n",
       "      <td>0.041942</td>\n",
       "      <td>0.169585</td>\n",
       "      <td>0.111092</td>\n",
       "      <td>0.208743</td>\n",
       "      <td>0.042549</td>\n",
       "      <td>0.118012</td>\n",
       "      <td>0.117007</td>\n",
       "      <td>0.018223</td>\n",
       "      <td>0.253968</td>\n",
       "      <td>0.861811</td>\n",
       "    </tr>\n",
       "    <tr>\n",
       "      <th>50%</th>\n",
       "      <td>0.184800</td>\n",
       "      <td>0.059143</td>\n",
       "      <td>0.190017</td>\n",
       "      <td>0.140293</td>\n",
       "      <td>0.225677</td>\n",
       "      <td>0.094274</td>\n",
       "      <td>0.186531</td>\n",
       "      <td>0.140519</td>\n",
       "      <td>0.046110</td>\n",
       "      <td>0.271186</td>\n",
       "      <td>0.901767</td>\n",
       "    </tr>\n",
       "    <tr>\n",
       "      <th>75%</th>\n",
       "      <td>0.199154</td>\n",
       "      <td>0.066992</td>\n",
       "      <td>0.210620</td>\n",
       "      <td>0.175944</td>\n",
       "      <td>0.243649</td>\n",
       "      <td>0.114167</td>\n",
       "      <td>0.221064</td>\n",
       "      <td>0.169605</td>\n",
       "      <td>0.047904</td>\n",
       "      <td>0.277457</td>\n",
       "      <td>0.928713</td>\n",
       "    </tr>\n",
       "    <tr>\n",
       "      <th>max</th>\n",
       "      <td>0.251124</td>\n",
       "      <td>0.115273</td>\n",
       "      <td>0.261224</td>\n",
       "      <td>0.247347</td>\n",
       "      <td>0.273469</td>\n",
       "      <td>0.252225</td>\n",
       "      <td>0.280000</td>\n",
       "      <td>0.237636</td>\n",
       "      <td>2.000000</td>\n",
       "      <td>4.000000</td>\n",
       "      <td>0.981997</td>\n",
       "    </tr>\n",
       "  </tbody>\n",
       "</table>\n",
       "</div>"
      ],
      "text/plain": [
       "          meanfreq           sd       median          Q25          Q75  \\\n",
       "count  3167.000000  3166.000000  3167.000000  3167.000000  3167.000000   \n",
       "mean      0.180791     0.057111     0.185613     0.140490     0.224733   \n",
       "std       0.030268     0.016647     0.036363     0.048649     0.023800   \n",
       "min       0.000000     0.018363     0.010975     0.000229     0.018264   \n",
       "25%       0.163628     0.041942     0.169585     0.111092     0.208743   \n",
       "50%       0.184800     0.059143     0.190017     0.140293     0.225677   \n",
       "75%       0.199154     0.066992     0.210620     0.175944     0.243649   \n",
       "max       0.251124     0.115273     0.261224     0.247347     0.273469   \n",
       "\n",
       "               IQR         mode      meanfun       minfun       maxfun  \\\n",
       "count  3167.000000  3167.000000  3166.000000  3167.000000  3167.000000   \n",
       "mean      0.084299     0.165252     0.142822     0.037423     0.260016   \n",
       "std       0.042786     0.077197     0.032297     0.039828     0.072968   \n",
       "min       0.014558     0.000000     0.055565     0.009775     0.103093   \n",
       "25%       0.042549     0.118012     0.117007     0.018223     0.253968   \n",
       "50%       0.094274     0.186531     0.140519     0.046110     0.271186   \n",
       "75%       0.114167     0.221064     0.169605     0.047904     0.277457   \n",
       "max       0.252225     0.280000     0.237636     2.000000     4.000000   \n",
       "\n",
       "            sp.ent  \n",
       "count  3168.000000  \n",
       "mean      0.895127  \n",
       "std       0.044980  \n",
       "min       0.738651  \n",
       "25%       0.861811  \n",
       "50%       0.901767  \n",
       "75%       0.928713  \n",
       "max       0.981997  "
      ]
     },
     "execution_count": 3,
     "metadata": {},
     "output_type": "execute_result"
    }
   ],
   "source": [
    "df.describe()"
   ]
  },
  {
   "cell_type": "markdown",
   "metadata": {},
   "source": [
    "Missing Values in the Dataset: standard deviation is null in one of the rows (Row No. 14), and mean fundamental frequency is null (Row No. 2)"
   ]
  },
  {
   "cell_type": "markdown",
   "metadata": {},
   "source": [
    "Inappropriate Values in the dataset: Minimum fundamental frequency has a value = 2 kHz (Row No. 2) which is outside of the possible human vocal range, 0 to .280 kHz and Maximum fundamental frequency has a  value = 4 (Row No. 4) which is outside of the possible human vocal range, 0 - .280 kHz. Also, Mean frequency value of 0 kHz is inappropriate (Row No. 18 and 21) based on other statistics for that voice signal. (Note: Mode of 0 kHz does not indicate bad data, as 0 value of kHz can occur multiple times in an audio signal, indicating silence of the speaker) \n"
   ]
  },
  {
   "cell_type": "code",
   "execution_count": 59,
   "metadata": {},
   "outputs": [
    {
     "data": {
      "text/plain": [
       "1"
      ]
     },
     "execution_count": 59,
     "metadata": {},
     "output_type": "execute_result"
    }
   ],
   "source": [
    "df.isnull().values.any().sum()"
   ]
  },
  {
   "cell_type": "code",
   "execution_count": 60,
   "metadata": {},
   "outputs": [
    {
     "data": {
      "text/html": [
       "<div>\n",
       "<style>\n",
       "    .dataframe thead tr:only-child th {\n",
       "        text-align: right;\n",
       "    }\n",
       "\n",
       "    .dataframe thead th {\n",
       "        text-align: left;\n",
       "    }\n",
       "\n",
       "    .dataframe tbody tr th {\n",
       "        vertical-align: top;\n",
       "    }\n",
       "</style>\n",
       "<table border=\"1\" class=\"dataframe\">\n",
       "  <thead>\n",
       "    <tr style=\"text-align: right;\">\n",
       "      <th></th>\n",
       "      <th>meanfreq</th>\n",
       "      <th>sd</th>\n",
       "      <th>median</th>\n",
       "      <th>Q25</th>\n",
       "      <th>Q75</th>\n",
       "      <th>IQR</th>\n",
       "      <th>mode</th>\n",
       "      <th>meanfun</th>\n",
       "      <th>minfun</th>\n",
       "      <th>maxfun</th>\n",
       "      <th>sp.ent</th>\n",
       "      <th>label</th>\n",
       "    </tr>\n",
       "  </thead>\n",
       "  <tbody>\n",
       "    <tr>\n",
       "      <th>3163</th>\n",
       "      <td>0.131884</td>\n",
       "      <td>0.084734</td>\n",
       "      <td>0.153707</td>\n",
       "      <td>0.049285</td>\n",
       "      <td>0.201144</td>\n",
       "      <td>0.151859</td>\n",
       "      <td>0.200836</td>\n",
       "      <td>0.182790</td>\n",
       "      <td>0.083770</td>\n",
       "      <td>0.262295</td>\n",
       "      <td>0.962934</td>\n",
       "      <td>female</td>\n",
       "    </tr>\n",
       "    <tr>\n",
       "      <th>3164</th>\n",
       "      <td>0.116221</td>\n",
       "      <td>0.089221</td>\n",
       "      <td>0.076758</td>\n",
       "      <td>0.042718</td>\n",
       "      <td>0.204911</td>\n",
       "      <td>0.162193</td>\n",
       "      <td>0.013683</td>\n",
       "      <td>0.188980</td>\n",
       "      <td>0.034409</td>\n",
       "      <td>0.275862</td>\n",
       "      <td>0.960716</td>\n",
       "      <td>female</td>\n",
       "    </tr>\n",
       "    <tr>\n",
       "      <th>3165</th>\n",
       "      <td>0.142056</td>\n",
       "      <td>0.095798</td>\n",
       "      <td>0.183731</td>\n",
       "      <td>0.033424</td>\n",
       "      <td>0.224360</td>\n",
       "      <td>0.190936</td>\n",
       "      <td>0.008006</td>\n",
       "      <td>0.209918</td>\n",
       "      <td>0.039506</td>\n",
       "      <td>0.275862</td>\n",
       "      <td>0.946854</td>\n",
       "      <td>female</td>\n",
       "    </tr>\n",
       "    <tr>\n",
       "      <th>3166</th>\n",
       "      <td>0.143659</td>\n",
       "      <td>0.090628</td>\n",
       "      <td>0.184976</td>\n",
       "      <td>0.043508</td>\n",
       "      <td>0.219943</td>\n",
       "      <td>0.176435</td>\n",
       "      <td>0.212202</td>\n",
       "      <td>0.172375</td>\n",
       "      <td>0.034483</td>\n",
       "      <td>0.250000</td>\n",
       "      <td>0.950436</td>\n",
       "      <td>female</td>\n",
       "    </tr>\n",
       "    <tr>\n",
       "      <th>3167</th>\n",
       "      <td>0.165509</td>\n",
       "      <td>0.092884</td>\n",
       "      <td>0.183044</td>\n",
       "      <td>0.070072</td>\n",
       "      <td>0.250827</td>\n",
       "      <td>0.180756</td>\n",
       "      <td>0.267702</td>\n",
       "      <td>0.185607</td>\n",
       "      <td>0.062257</td>\n",
       "      <td>0.271186</td>\n",
       "      <td>0.938829</td>\n",
       "      <td>female</td>\n",
       "    </tr>\n",
       "  </tbody>\n",
       "</table>\n",
       "</div>"
      ],
      "text/plain": [
       "      meanfreq        sd    median       Q25       Q75       IQR      mode  \\\n",
       "3163  0.131884  0.084734  0.153707  0.049285  0.201144  0.151859  0.200836   \n",
       "3164  0.116221  0.089221  0.076758  0.042718  0.204911  0.162193  0.013683   \n",
       "3165  0.142056  0.095798  0.183731  0.033424  0.224360  0.190936  0.008006   \n",
       "3166  0.143659  0.090628  0.184976  0.043508  0.219943  0.176435  0.212202   \n",
       "3167  0.165509  0.092884  0.183044  0.070072  0.250827  0.180756  0.267702   \n",
       "\n",
       "       meanfun    minfun    maxfun    sp.ent   label  \n",
       "3163  0.182790  0.083770  0.262295  0.962934  female  \n",
       "3164  0.188980  0.034409  0.275862  0.960716  female  \n",
       "3165  0.209918  0.039506  0.275862  0.946854  female  \n",
       "3166  0.172375  0.034483  0.250000  0.950436  female  \n",
       "3167  0.185607  0.062257  0.271186  0.938829  female  "
      ]
     },
     "execution_count": 60,
     "metadata": {},
     "output_type": "execute_result"
    }
   ],
   "source": [
    "df.tail()"
   ]
  },
  {
   "cell_type": "code",
   "execution_count": 61,
   "metadata": {},
   "outputs": [
    {
     "data": {
      "text/plain": [
       "meanfreq    0.180791\n",
       "sd          0.057111\n",
       "median      0.185613\n",
       "Q25         0.140490\n",
       "Q75         0.224733\n",
       "IQR         0.084299\n",
       "mode        0.165252\n",
       "meanfun     0.142822\n",
       "minfun      0.037423\n",
       "maxfun      0.260016\n",
       "sp.ent      0.895127\n",
       "dtype: float64"
      ]
     },
     "execution_count": 61,
     "metadata": {},
     "output_type": "execute_result"
    }
   ],
   "source": [
    "df.mean()"
   ]
  },
  {
   "cell_type": "code",
   "execution_count": 62,
   "metadata": {},
   "outputs": [
    {
     "data": {
      "text/plain": [
       "meanfreq    0.184800\n",
       "sd          0.059143\n",
       "median      0.190017\n",
       "Q25         0.140293\n",
       "Q75         0.225677\n",
       "IQR         0.094274\n",
       "mode        0.186531\n",
       "meanfun     0.140519\n",
       "minfun      0.046110\n",
       "maxfun      0.271186\n",
       "sp.ent      0.901767\n",
       "dtype: float64"
      ]
     },
     "execution_count": 62,
     "metadata": {},
     "output_type": "execute_result"
    }
   ],
   "source": [
    "df.median()"
   ]
  },
  {
   "cell_type": "code",
   "execution_count": 63,
   "metadata": {},
   "outputs": [
    {
     "data": {
      "text/plain": [
       "meanfreq    0.000000\n",
       "sd          0.018363\n",
       "median      0.010975\n",
       "Q25         0.000229\n",
       "Q75         0.018264\n",
       "IQR         0.014558\n",
       "mode        0.000000\n",
       "meanfun     0.055565\n",
       "minfun      0.009775\n",
       "maxfun      0.103093\n",
       "sp.ent      0.738651\n",
       "dtype: float64"
      ]
     },
     "execution_count": 63,
     "metadata": {},
     "output_type": "execute_result"
    }
   ],
   "source": [
    "df.min()"
   ]
  },
  {
   "cell_type": "code",
   "execution_count": 64,
   "metadata": {
    "scrolled": true
   },
   "outputs": [
    {
     "data": {
      "text/plain": [
       "meanfreq    0.251124\n",
       "sd          0.115273\n",
       "median      0.261224\n",
       "Q25         0.247347\n",
       "Q75         0.273469\n",
       "IQR         0.252225\n",
       "mode        0.280000\n",
       "meanfun     0.237636\n",
       "minfun      2.000000\n",
       "maxfun      4.000000\n",
       "sp.ent      0.981997\n",
       "dtype: float64"
      ]
     },
     "execution_count": 64,
     "metadata": {},
     "output_type": "execute_result"
    }
   ],
   "source": [
    "df.max()"
   ]
  },
  {
   "cell_type": "markdown",
   "metadata": {},
   "source": [
    "Anomalies:\n",
    "\n",
    "The max value of minfun (minimum fundamental frequency) is 2kHz, which is outside the normal human vocal range of 0kHz to 0.280 kHz \n",
    "\n",
    "The max value of maxfun (maximum fundamental frequency) is 4kHz, which is outside the normal human vocal range of 0kHz to 0.280 kHz "
   ]
  },
  {
   "cell_type": "code",
   "execution_count": 65,
   "metadata": {},
   "outputs": [
    {
     "data": {
      "text/plain": [
       "0.03742258230028432"
      ]
     },
     "execution_count": 65,
     "metadata": {},
     "output_type": "execute_result"
    }
   ],
   "source": [
    "df[\"minfun\"].mean()"
   ]
  },
  {
   "cell_type": "code",
   "execution_count": 66,
   "metadata": {},
   "outputs": [
    {
     "data": {
      "text/plain": [
       "0.2600157440625253"
      ]
     },
     "execution_count": 66,
     "metadata": {},
     "output_type": "execute_result"
    }
   ],
   "source": [
    "df[\"maxfun\"].mean()"
   ]
  },
  {
   "cell_type": "code",
   "execution_count": 67,
   "metadata": {},
   "outputs": [
    {
     "data": {
      "text/plain": [
       "0.8951270643371223"
      ]
     },
     "execution_count": 67,
     "metadata": {},
     "output_type": "execute_result"
    }
   ],
   "source": [
    "df[\"sp.ent\"].mean()"
   ]
  },
  {
   "cell_type": "code",
   "execution_count": 68,
   "metadata": {},
   "outputs": [
    {
     "data": {
      "text/plain": [
       "0.180790965974424"
      ]
     },
     "execution_count": 68,
     "metadata": {},
     "output_type": "execute_result"
    }
   ],
   "source": [
    "df[\"meanfreq\"].mean()"
   ]
  },
  {
   "cell_type": "code",
   "execution_count": 69,
   "metadata": {
    "scrolled": true
   },
   "outputs": [
    {
     "data": {
      "text/plain": [
       "0.05711145021099184"
      ]
     },
     "execution_count": 69,
     "metadata": {},
     "output_type": "execute_result"
    }
   ],
   "source": [
    "df[\"sd\"].mean()"
   ]
  },
  {
   "cell_type": "code",
   "execution_count": 70,
   "metadata": {
    "scrolled": true
   },
   "outputs": [
    {
     "name": "stdout",
     "output_type": "stream",
     "text": [
      "meanfreq    0\n",
      "sd          0\n",
      "median      0\n",
      "Q25         0\n",
      "Q75         0\n",
      "IQR         0\n",
      "mode        0\n",
      "meanfun     0\n",
      "minfun      0\n",
      "maxfun      0\n",
      "sp.ent      0\n",
      "label       1\n",
      "dtype: int64\n"
     ]
    }
   ],
   "source": [
    "%matplotlib inline\n",
    "import pandas as pd\n",
    "import numpy as np\n",
    "import seaborn as sns\n",
    "import matplotlib.pyplot as plt\n",
    "df = pd.read_csv('/Users/neelambabel/ADS Folder/Assignment 1/voice.csv')\n",
    "# mark zero values as missing or NaN\n",
    "df[\"meanfreq\"] = df[\"meanfreq\"].replace(0, np.NaN)\n",
    "# fill missing values with mean column values\n",
    "df.fillna(df.mean(), inplace=True)\n",
    "# count the number of NaN values in each column\n",
    "print(df.isnull().sum())"
   ]
  },
  {
   "cell_type": "markdown",
   "metadata": {},
   "source": [
    "Replacing the inappropriate values (mean freq, sd, mean fun) above with the respective mean values for that column."
   ]
  },
  {
   "cell_type": "code",
   "execution_count": 71,
   "metadata": {},
   "outputs": [
    {
     "data": {
      "text/html": [
       "<div>\n",
       "<style>\n",
       "    .dataframe thead tr:only-child th {\n",
       "        text-align: right;\n",
       "    }\n",
       "\n",
       "    .dataframe thead th {\n",
       "        text-align: left;\n",
       "    }\n",
       "\n",
       "    .dataframe tbody tr th {\n",
       "        vertical-align: top;\n",
       "    }\n",
       "</style>\n",
       "<table border=\"1\" class=\"dataframe\">\n",
       "  <thead>\n",
       "    <tr style=\"text-align: right;\">\n",
       "      <th></th>\n",
       "      <th>meanfreq</th>\n",
       "      <th>sd</th>\n",
       "      <th>median</th>\n",
       "      <th>Q25</th>\n",
       "      <th>Q75</th>\n",
       "      <th>IQR</th>\n",
       "      <th>mode</th>\n",
       "      <th>meanfun</th>\n",
       "      <th>minfun</th>\n",
       "      <th>maxfun</th>\n",
       "      <th>sp.ent</th>\n",
       "    </tr>\n",
       "  </thead>\n",
       "  <tbody>\n",
       "    <tr>\n",
       "      <th>count</th>\n",
       "      <td>3168.000000</td>\n",
       "      <td>3168.000000</td>\n",
       "      <td>3168.000000</td>\n",
       "      <td>3168.000000</td>\n",
       "      <td>3168.000000</td>\n",
       "      <td>3168.000000</td>\n",
       "      <td>3168.000000</td>\n",
       "      <td>3168.000000</td>\n",
       "      <td>3168.000000</td>\n",
       "      <td>3168.000000</td>\n",
       "      <td>3168.000000</td>\n",
       "    </tr>\n",
       "    <tr>\n",
       "      <th>mean</th>\n",
       "      <td>0.180905</td>\n",
       "      <td>0.057111</td>\n",
       "      <td>0.185613</td>\n",
       "      <td>0.140490</td>\n",
       "      <td>0.224733</td>\n",
       "      <td>0.084299</td>\n",
       "      <td>0.165252</td>\n",
       "      <td>0.142822</td>\n",
       "      <td>0.037423</td>\n",
       "      <td>0.260016</td>\n",
       "      <td>0.895127</td>\n",
       "    </tr>\n",
       "    <tr>\n",
       "      <th>std</th>\n",
       "      <td>0.029920</td>\n",
       "      <td>0.016642</td>\n",
       "      <td>0.036357</td>\n",
       "      <td>0.048642</td>\n",
       "      <td>0.023797</td>\n",
       "      <td>0.042779</td>\n",
       "      <td>0.077185</td>\n",
       "      <td>0.032287</td>\n",
       "      <td>0.039821</td>\n",
       "      <td>0.072956</td>\n",
       "      <td>0.044980</td>\n",
       "    </tr>\n",
       "    <tr>\n",
       "      <th>min</th>\n",
       "      <td>0.039363</td>\n",
       "      <td>0.018363</td>\n",
       "      <td>0.010975</td>\n",
       "      <td>0.000229</td>\n",
       "      <td>0.018264</td>\n",
       "      <td>0.014558</td>\n",
       "      <td>0.000000</td>\n",
       "      <td>0.055565</td>\n",
       "      <td>0.009775</td>\n",
       "      <td>0.103093</td>\n",
       "      <td>0.738651</td>\n",
       "    </tr>\n",
       "    <tr>\n",
       "      <th>25%</th>\n",
       "      <td>0.163694</td>\n",
       "      <td>0.041954</td>\n",
       "      <td>0.169593</td>\n",
       "      <td>0.111094</td>\n",
       "      <td>0.208747</td>\n",
       "      <td>0.042560</td>\n",
       "      <td>0.118016</td>\n",
       "      <td>0.117014</td>\n",
       "      <td>0.018223</td>\n",
       "      <td>0.253968</td>\n",
       "      <td>0.861811</td>\n",
       "    </tr>\n",
       "    <tr>\n",
       "      <th>50%</th>\n",
       "      <td>0.184790</td>\n",
       "      <td>0.059130</td>\n",
       "      <td>0.190016</td>\n",
       "      <td>0.140313</td>\n",
       "      <td>0.225668</td>\n",
       "      <td>0.094255</td>\n",
       "      <td>0.186530</td>\n",
       "      <td>0.140585</td>\n",
       "      <td>0.046110</td>\n",
       "      <td>0.271186</td>\n",
       "      <td>0.901767</td>\n",
       "    </tr>\n",
       "    <tr>\n",
       "      <th>75%</th>\n",
       "      <td>0.199146</td>\n",
       "      <td>0.066985</td>\n",
       "      <td>0.210618</td>\n",
       "      <td>0.175939</td>\n",
       "      <td>0.243648</td>\n",
       "      <td>0.114166</td>\n",
       "      <td>0.221058</td>\n",
       "      <td>0.169581</td>\n",
       "      <td>0.047904</td>\n",
       "      <td>0.277457</td>\n",
       "      <td>0.928713</td>\n",
       "    </tr>\n",
       "    <tr>\n",
       "      <th>max</th>\n",
       "      <td>0.251124</td>\n",
       "      <td>0.115273</td>\n",
       "      <td>0.261224</td>\n",
       "      <td>0.247347</td>\n",
       "      <td>0.273469</td>\n",
       "      <td>0.252225</td>\n",
       "      <td>0.280000</td>\n",
       "      <td>0.237636</td>\n",
       "      <td>2.000000</td>\n",
       "      <td>4.000000</td>\n",
       "      <td>0.981997</td>\n",
       "    </tr>\n",
       "  </tbody>\n",
       "</table>\n",
       "</div>"
      ],
      "text/plain": [
       "          meanfreq           sd       median          Q25          Q75  \\\n",
       "count  3168.000000  3168.000000  3168.000000  3168.000000  3168.000000   \n",
       "mean      0.180905     0.057111     0.185613     0.140490     0.224733   \n",
       "std       0.029920     0.016642     0.036357     0.048642     0.023797   \n",
       "min       0.039363     0.018363     0.010975     0.000229     0.018264   \n",
       "25%       0.163694     0.041954     0.169593     0.111094     0.208747   \n",
       "50%       0.184790     0.059130     0.190016     0.140313     0.225668   \n",
       "75%       0.199146     0.066985     0.210618     0.175939     0.243648   \n",
       "max       0.251124     0.115273     0.261224     0.247347     0.273469   \n",
       "\n",
       "               IQR         mode      meanfun       minfun       maxfun  \\\n",
       "count  3168.000000  3168.000000  3168.000000  3168.000000  3168.000000   \n",
       "mean      0.084299     0.165252     0.142822     0.037423     0.260016   \n",
       "std       0.042779     0.077185     0.032287     0.039821     0.072956   \n",
       "min       0.014558     0.000000     0.055565     0.009775     0.103093   \n",
       "25%       0.042560     0.118016     0.117014     0.018223     0.253968   \n",
       "50%       0.094255     0.186530     0.140585     0.046110     0.271186   \n",
       "75%       0.114166     0.221058     0.169581     0.047904     0.277457   \n",
       "max       0.252225     0.280000     0.237636     2.000000     4.000000   \n",
       "\n",
       "            sp.ent  \n",
       "count  3168.000000  \n",
       "mean      0.895127  \n",
       "std       0.044980  \n",
       "min       0.738651  \n",
       "25%       0.861811  \n",
       "50%       0.901767  \n",
       "75%       0.928713  \n",
       "max       0.981997  "
      ]
     },
     "execution_count": 71,
     "metadata": {},
     "output_type": "execute_result"
    }
   ],
   "source": [
    "df.describe()"
   ]
  },
  {
   "cell_type": "code",
   "execution_count": 72,
   "metadata": {},
   "outputs": [
    {
     "data": {
      "text/html": [
       "<div>\n",
       "<style>\n",
       "    .dataframe thead tr:only-child th {\n",
       "        text-align: right;\n",
       "    }\n",
       "\n",
       "    .dataframe thead th {\n",
       "        text-align: left;\n",
       "    }\n",
       "\n",
       "    .dataframe tbody tr th {\n",
       "        vertical-align: top;\n",
       "    }\n",
       "</style>\n",
       "<table border=\"1\" class=\"dataframe\">\n",
       "  <thead>\n",
       "    <tr style=\"text-align: right;\">\n",
       "      <th></th>\n",
       "      <th>meanfreq</th>\n",
       "      <th>sd</th>\n",
       "      <th>median</th>\n",
       "      <th>Q25</th>\n",
       "      <th>Q75</th>\n",
       "      <th>IQR</th>\n",
       "      <th>mode</th>\n",
       "      <th>meanfun</th>\n",
       "      <th>minfun</th>\n",
       "      <th>maxfun</th>\n",
       "      <th>sp.ent</th>\n",
       "      <th>label</th>\n",
       "    </tr>\n",
       "  </thead>\n",
       "  <tbody>\n",
       "    <tr>\n",
       "      <th>0</th>\n",
       "      <td>0.091988</td>\n",
       "      <td>0.064241</td>\n",
       "      <td>0.032027</td>\n",
       "      <td>0.058748</td>\n",
       "      <td>0.018264</td>\n",
       "      <td>0.075122</td>\n",
       "      <td>0.000000</td>\n",
       "      <td>0.142822</td>\n",
       "      <td>2.000000</td>\n",
       "      <td>0.275862</td>\n",
       "      <td>0.893369</td>\n",
       "      <td>male</td>\n",
       "    </tr>\n",
       "    <tr>\n",
       "      <th>1</th>\n",
       "      <td>0.066009</td>\n",
       "      <td>0.067310</td>\n",
       "      <td>0.040229</td>\n",
       "      <td>0.019414</td>\n",
       "      <td>0.092666</td>\n",
       "      <td>0.073252</td>\n",
       "      <td>0.000000</td>\n",
       "      <td>0.107937</td>\n",
       "      <td>0.015826</td>\n",
       "      <td>0.250000</td>\n",
       "      <td>0.892193</td>\n",
       "      <td>male</td>\n",
       "    </tr>\n",
       "    <tr>\n",
       "      <th>2</th>\n",
       "      <td>0.077316</td>\n",
       "      <td>0.083829</td>\n",
       "      <td>0.036718</td>\n",
       "      <td>0.008701</td>\n",
       "      <td>0.131908</td>\n",
       "      <td>0.123207</td>\n",
       "      <td>0.000000</td>\n",
       "      <td>0.098706</td>\n",
       "      <td>0.015656</td>\n",
       "      <td>4.000000</td>\n",
       "      <td>0.846389</td>\n",
       "      <td>male</td>\n",
       "    </tr>\n",
       "    <tr>\n",
       "      <th>3</th>\n",
       "      <td>0.151228</td>\n",
       "      <td>0.072111</td>\n",
       "      <td>0.158011</td>\n",
       "      <td>0.096582</td>\n",
       "      <td>0.207955</td>\n",
       "      <td>0.111374</td>\n",
       "      <td>0.083878</td>\n",
       "      <td>0.088965</td>\n",
       "      <td>0.017798</td>\n",
       "      <td>0.250000</td>\n",
       "      <td>0.963322</td>\n",
       "      <td>male</td>\n",
       "    </tr>\n",
       "    <tr>\n",
       "      <th>4</th>\n",
       "      <td>0.135120</td>\n",
       "      <td>0.079146</td>\n",
       "      <td>0.124656</td>\n",
       "      <td>0.078720</td>\n",
       "      <td>0.206045</td>\n",
       "      <td>0.127325</td>\n",
       "      <td>0.104261</td>\n",
       "      <td>0.106398</td>\n",
       "      <td>0.016931</td>\n",
       "      <td>0.266667</td>\n",
       "      <td>0.971955</td>\n",
       "      <td>male</td>\n",
       "    </tr>\n",
       "    <tr>\n",
       "      <th>5</th>\n",
       "      <td>0.132786</td>\n",
       "      <td>0.079557</td>\n",
       "      <td>0.119090</td>\n",
       "      <td>0.067958</td>\n",
       "      <td>0.209592</td>\n",
       "      <td>0.141634</td>\n",
       "      <td>0.112555</td>\n",
       "      <td>0.110132</td>\n",
       "      <td>0.017112</td>\n",
       "      <td>0.253968</td>\n",
       "      <td>0.963181</td>\n",
       "      <td>male</td>\n",
       "    </tr>\n",
       "    <tr>\n",
       "      <th>6</th>\n",
       "      <td>0.180734</td>\n",
       "      <td>0.074463</td>\n",
       "      <td>0.160106</td>\n",
       "      <td>0.092899</td>\n",
       "      <td>0.205718</td>\n",
       "      <td>0.112819</td>\n",
       "      <td>0.086197</td>\n",
       "      <td>0.105945</td>\n",
       "      <td>0.026230</td>\n",
       "      <td>0.266667</td>\n",
       "      <td>0.967573</td>\n",
       "      <td>male</td>\n",
       "    </tr>\n",
       "    <tr>\n",
       "      <th>7</th>\n",
       "      <td>0.160514</td>\n",
       "      <td>0.076767</td>\n",
       "      <td>0.144337</td>\n",
       "      <td>0.110532</td>\n",
       "      <td>0.231962</td>\n",
       "      <td>0.121430</td>\n",
       "      <td>0.128324</td>\n",
       "      <td>0.093052</td>\n",
       "      <td>0.017758</td>\n",
       "      <td>0.144144</td>\n",
       "      <td>0.959255</td>\n",
       "      <td>male</td>\n",
       "    </tr>\n",
       "    <tr>\n",
       "      <th>8</th>\n",
       "      <td>0.082239</td>\n",
       "      <td>0.078018</td>\n",
       "      <td>0.138587</td>\n",
       "      <td>0.148206</td>\n",
       "      <td>0.208587</td>\n",
       "      <td>0.120381</td>\n",
       "      <td>0.219103</td>\n",
       "      <td>0.096729</td>\n",
       "      <td>0.017957</td>\n",
       "      <td>0.250000</td>\n",
       "      <td>0.970723</td>\n",
       "      <td>male</td>\n",
       "    </tr>\n",
       "    <tr>\n",
       "      <th>9</th>\n",
       "      <td>0.134329</td>\n",
       "      <td>0.080350</td>\n",
       "      <td>0.121451</td>\n",
       "      <td>0.075580</td>\n",
       "      <td>0.201957</td>\n",
       "      <td>0.126377</td>\n",
       "      <td>0.011699</td>\n",
       "      <td>0.105881</td>\n",
       "      <td>0.019300</td>\n",
       "      <td>0.262295</td>\n",
       "      <td>0.975246</td>\n",
       "      <td>male</td>\n",
       "    </tr>\n",
       "    <tr>\n",
       "      <th>10</th>\n",
       "      <td>0.157021</td>\n",
       "      <td>0.071943</td>\n",
       "      <td>0.168160</td>\n",
       "      <td>0.101430</td>\n",
       "      <td>0.216740</td>\n",
       "      <td>0.115310</td>\n",
       "      <td>0.096358</td>\n",
       "      <td>0.088894</td>\n",
       "      <td>0.022069</td>\n",
       "      <td>0.117647</td>\n",
       "      <td>0.965249</td>\n",
       "      <td>male</td>\n",
       "    </tr>\n",
       "    <tr>\n",
       "      <th>11</th>\n",
       "      <td>0.138551</td>\n",
       "      <td>0.077054</td>\n",
       "      <td>0.127527</td>\n",
       "      <td>0.087314</td>\n",
       "      <td>0.202739</td>\n",
       "      <td>0.115426</td>\n",
       "      <td>0.012101</td>\n",
       "      <td>0.104199</td>\n",
       "      <td>0.019139</td>\n",
       "      <td>0.262295</td>\n",
       "      <td>0.966004</td>\n",
       "      <td>male</td>\n",
       "    </tr>\n",
       "    <tr>\n",
       "      <th>12</th>\n",
       "      <td>0.137343</td>\n",
       "      <td>0.057111</td>\n",
       "      <td>0.124263</td>\n",
       "      <td>0.083145</td>\n",
       "      <td>0.209227</td>\n",
       "      <td>0.126082</td>\n",
       "      <td>0.108434</td>\n",
       "      <td>0.092644</td>\n",
       "      <td>0.016789</td>\n",
       "      <td>0.213333</td>\n",
       "      <td>0.963514</td>\n",
       "      <td>male</td>\n",
       "    </tr>\n",
       "    <tr>\n",
       "      <th>13</th>\n",
       "      <td>0.181225</td>\n",
       "      <td>0.060042</td>\n",
       "      <td>0.190953</td>\n",
       "      <td>0.128839</td>\n",
       "      <td>0.229532</td>\n",
       "      <td>0.100693</td>\n",
       "      <td>0.219827</td>\n",
       "      <td>0.131504</td>\n",
       "      <td>0.025000</td>\n",
       "      <td>0.275862</td>\n",
       "      <td>0.937446</td>\n",
       "      <td>male</td>\n",
       "    </tr>\n",
       "    <tr>\n",
       "      <th>14</th>\n",
       "      <td>0.183115</td>\n",
       "      <td>0.066982</td>\n",
       "      <td>0.191233</td>\n",
       "      <td>0.129149</td>\n",
       "      <td>0.240152</td>\n",
       "      <td>0.111004</td>\n",
       "      <td>0.049987</td>\n",
       "      <td>0.102799</td>\n",
       "      <td>0.020833</td>\n",
       "      <td>0.275862</td>\n",
       "      <td>0.940333</td>\n",
       "      <td>male</td>\n",
       "    </tr>\n",
       "    <tr>\n",
       "      <th>15</th>\n",
       "      <td>0.174272</td>\n",
       "      <td>0.069411</td>\n",
       "      <td>0.190874</td>\n",
       "      <td>0.115602</td>\n",
       "      <td>0.228279</td>\n",
       "      <td>0.112677</td>\n",
       "      <td>0.050027</td>\n",
       "      <td>0.102046</td>\n",
       "      <td>0.018328</td>\n",
       "      <td>0.246154</td>\n",
       "      <td>0.950972</td>\n",
       "      <td>male</td>\n",
       "    </tr>\n",
       "    <tr>\n",
       "      <th>16</th>\n",
       "      <td>0.180905</td>\n",
       "      <td>0.065790</td>\n",
       "      <td>0.207951</td>\n",
       "      <td>0.132280</td>\n",
       "      <td>0.244357</td>\n",
       "      <td>0.112076</td>\n",
       "      <td>0.050129</td>\n",
       "      <td>0.113323</td>\n",
       "      <td>0.017544</td>\n",
       "      <td>0.275862</td>\n",
       "      <td>0.938546</td>\n",
       "      <td>male</td>\n",
       "    </tr>\n",
       "    <tr>\n",
       "      <th>17</th>\n",
       "      <td>0.171247</td>\n",
       "      <td>0.074872</td>\n",
       "      <td>0.152807</td>\n",
       "      <td>0.122391</td>\n",
       "      <td>0.243617</td>\n",
       "      <td>0.121227</td>\n",
       "      <td>0.059958</td>\n",
       "      <td>0.079718</td>\n",
       "      <td>0.015671</td>\n",
       "      <td>0.262295</td>\n",
       "      <td>0.936954</td>\n",
       "      <td>male</td>\n",
       "    </tr>\n",
       "    <tr>\n",
       "      <th>18</th>\n",
       "      <td>0.168346</td>\n",
       "      <td>0.074121</td>\n",
       "      <td>0.145618</td>\n",
       "      <td>0.115756</td>\n",
       "      <td>0.239824</td>\n",
       "      <td>0.124068</td>\n",
       "      <td>0.060033</td>\n",
       "      <td>0.083484</td>\n",
       "      <td>0.015717</td>\n",
       "      <td>0.231884</td>\n",
       "      <td>0.934523</td>\n",
       "      <td>male</td>\n",
       "    </tr>\n",
       "    <tr>\n",
       "      <th>19</th>\n",
       "      <td>0.180905</td>\n",
       "      <td>0.073352</td>\n",
       "      <td>0.153569</td>\n",
       "      <td>0.123680</td>\n",
       "      <td>0.244234</td>\n",
       "      <td>0.120554</td>\n",
       "      <td>0.060027</td>\n",
       "      <td>0.090130</td>\n",
       "      <td>0.015702</td>\n",
       "      <td>0.210526</td>\n",
       "      <td>0.930917</td>\n",
       "      <td>male</td>\n",
       "    </tr>\n",
       "  </tbody>\n",
       "</table>\n",
       "</div>"
      ],
      "text/plain": [
       "    meanfreq        sd    median       Q25       Q75       IQR      mode  \\\n",
       "0   0.091988  0.064241  0.032027  0.058748  0.018264  0.075122  0.000000   \n",
       "1   0.066009  0.067310  0.040229  0.019414  0.092666  0.073252  0.000000   \n",
       "2   0.077316  0.083829  0.036718  0.008701  0.131908  0.123207  0.000000   \n",
       "3   0.151228  0.072111  0.158011  0.096582  0.207955  0.111374  0.083878   \n",
       "4   0.135120  0.079146  0.124656  0.078720  0.206045  0.127325  0.104261   \n",
       "5   0.132786  0.079557  0.119090  0.067958  0.209592  0.141634  0.112555   \n",
       "6   0.180734  0.074463  0.160106  0.092899  0.205718  0.112819  0.086197   \n",
       "7   0.160514  0.076767  0.144337  0.110532  0.231962  0.121430  0.128324   \n",
       "8   0.082239  0.078018  0.138587  0.148206  0.208587  0.120381  0.219103   \n",
       "9   0.134329  0.080350  0.121451  0.075580  0.201957  0.126377  0.011699   \n",
       "10  0.157021  0.071943  0.168160  0.101430  0.216740  0.115310  0.096358   \n",
       "11  0.138551  0.077054  0.127527  0.087314  0.202739  0.115426  0.012101   \n",
       "12  0.137343  0.057111  0.124263  0.083145  0.209227  0.126082  0.108434   \n",
       "13  0.181225  0.060042  0.190953  0.128839  0.229532  0.100693  0.219827   \n",
       "14  0.183115  0.066982  0.191233  0.129149  0.240152  0.111004  0.049987   \n",
       "15  0.174272  0.069411  0.190874  0.115602  0.228279  0.112677  0.050027   \n",
       "16  0.180905  0.065790  0.207951  0.132280  0.244357  0.112076  0.050129   \n",
       "17  0.171247  0.074872  0.152807  0.122391  0.243617  0.121227  0.059958   \n",
       "18  0.168346  0.074121  0.145618  0.115756  0.239824  0.124068  0.060033   \n",
       "19  0.180905  0.073352  0.153569  0.123680  0.244234  0.120554  0.060027   \n",
       "\n",
       "     meanfun    minfun    maxfun    sp.ent label  \n",
       "0   0.142822  2.000000  0.275862  0.893369  male  \n",
       "1   0.107937  0.015826  0.250000  0.892193  male  \n",
       "2   0.098706  0.015656  4.000000  0.846389  male  \n",
       "3   0.088965  0.017798  0.250000  0.963322  male  \n",
       "4   0.106398  0.016931  0.266667  0.971955  male  \n",
       "5   0.110132  0.017112  0.253968  0.963181  male  \n",
       "6   0.105945  0.026230  0.266667  0.967573  male  \n",
       "7   0.093052  0.017758  0.144144  0.959255  male  \n",
       "8   0.096729  0.017957  0.250000  0.970723  male  \n",
       "9   0.105881  0.019300  0.262295  0.975246  male  \n",
       "10  0.088894  0.022069  0.117647  0.965249  male  \n",
       "11  0.104199  0.019139  0.262295  0.966004  male  \n",
       "12  0.092644  0.016789  0.213333  0.963514  male  \n",
       "13  0.131504  0.025000  0.275862  0.937446  male  \n",
       "14  0.102799  0.020833  0.275862  0.940333  male  \n",
       "15  0.102046  0.018328  0.246154  0.950972  male  \n",
       "16  0.113323  0.017544  0.275862  0.938546  male  \n",
       "17  0.079718  0.015671  0.262295  0.936954  male  \n",
       "18  0.083484  0.015717  0.231884  0.934523  male  \n",
       "19  0.090130  0.015702  0.210526  0.930917  male  "
      ]
     },
     "execution_count": 72,
     "metadata": {},
     "output_type": "execute_result"
    }
   ],
   "source": [
    "df.head(20)"
   ]
  },
  {
   "cell_type": "markdown",
   "metadata": {},
   "source": [
    "For the plots, x axis represents the voice frequency in kHz and Y axis is the feature measured at that frequency.\n"
   ]
  },
  {
   "cell_type": "code",
   "execution_count": 73,
   "metadata": {
    "scrolled": true
   },
   "outputs": [
    {
     "data": {
      "text/plain": [
       "array([[<matplotlib.axes._subplots.AxesSubplot object at 0x118218eb8>,\n",
       "        <matplotlib.axes._subplots.AxesSubplot object at 0x1187b7320>,\n",
       "        <matplotlib.axes._subplots.AxesSubplot object at 0x1187577f0>],\n",
       "       [<matplotlib.axes._subplots.AxesSubplot object at 0x1186f3978>,\n",
       "        <matplotlib.axes._subplots.AxesSubplot object at 0x1187450b8>,\n",
       "        <matplotlib.axes._subplots.AxesSubplot object at 0x118745470>],\n",
       "       [<matplotlib.axes._subplots.AxesSubplot object at 0x10fefebe0>,\n",
       "        <matplotlib.axes._subplots.AxesSubplot object at 0x10ffe2320>,\n",
       "        <matplotlib.axes._subplots.AxesSubplot object at 0x110032c50>],\n",
       "       [<matplotlib.axes._subplots.AxesSubplot object at 0x11062e860>,\n",
       "        <matplotlib.axes._subplots.AxesSubplot object at 0x110689d68>,\n",
       "        <matplotlib.axes._subplots.AxesSubplot object at 0x110702da0>]], dtype=object)"
      ]
     },
     "execution_count": 73,
     "metadata": {},
     "output_type": "execute_result"
    },
    {
     "data": {
      "image/png": "[encoded data removed]",
      "text/plain": [
       "<matplotlib.figure.Figure at 0x118218f28>"
      ]
     },
     "metadata": {},
     "output_type": "display_data"
    }
   ],
   "source": [
    "df.boxplot(by='label')\n"
   ]
  },
  {
   "cell_type": "code",
   "execution_count": 74,
   "metadata": {},
   "outputs": [
    {
     "data": {
      "text/plain": [
       "array([<matplotlib.axes._subplots.AxesSubplot object at 0x118bb3400>,\n",
       "       <matplotlib.axes._subplots.AxesSubplot object at 0x10ff5d630>], dtype=object)"
      ]
     },
     "execution_count": 74,
     "metadata": {},
     "output_type": "execute_result"
    },
    {
     "data": {
      "image/png": "[encoded data removed]",
      "text/plain": [
       "<matplotlib.figure.Figure at 0x1105f75f8>"
      ]
     },
     "metadata": {},
     "output_type": "display_data"
    }
   ],
   "source": [
    "df.boxplot(['meanfun', 'IQR'], 'label')"
   ]
  },
  {
   "cell_type": "markdown",
   "metadata": {},
   "source": [
    "Data Distribution and Statistics: \n",
    "\n",
    "InterQuartileRange (IQR) < 0.7 = Female and > 0.11 = Male (can predict 80% of female inputs and 50% of male inputs accurately)\n",
    "Mean of Fundamental Frequency (Meanfun) < 0.125 = Male and >0.16 = Female. (covers accurate prediction of 75% of both male and female values)\n"
   ]
  },
  {
   "cell_type": "code",
   "execution_count": 75,
   "metadata": {},
   "outputs": [
    {
     "data": {
      "text/plain": [
       "array([<matplotlib.axes._subplots.AxesSubplot object at 0x118c24390>,\n",
       "       <matplotlib.axes._subplots.AxesSubplot object at 0x1185f8160>], dtype=object)"
      ]
     },
     "execution_count": 75,
     "metadata": {},
     "output_type": "execute_result"
    },
    {
     "data": {
      "image/png": "[encoded data removed]",
      "text/plain": [
       "<matplotlib.figure.Figure at 0x118c0c240>"
      ]
     },
     "metadata": {},
     "output_type": "display_data"
    }
   ],
   "source": [
    "df.boxplot(['sp.ent', 'IQR'], 'label')"
   ]
  },
  {
   "cell_type": "markdown",
   "metadata": {},
   "source": [
    "Data Distribution and Statistics: \n",
    "\n",
    "Specatral entropy (sp.ent) — It is a measure of how predictable our input data is. Based on observations from the graph,indicates that a females' voice (0.85- 0.9) is more predictable than a males' (0.9-0.95)"
   ]
  },
  {
   "cell_type": "code",
   "execution_count": 76,
   "metadata": {},
   "outputs": [
    {
     "data": {
      "text/plain": [
       "array([<matplotlib.axes._subplots.AxesSubplot object at 0x117e05da0>,\n",
       "       <matplotlib.axes._subplots.AxesSubplot object at 0x118f312b0>], dtype=object)"
      ]
     },
     "execution_count": 76,
     "metadata": {},
     "output_type": "execute_result"
    },
    {
     "data": {
      "image/png": "[encoded data removed]",
      "text/plain": [
       "<matplotlib.figure.Figure at 0x118c24278>"
      ]
     },
     "metadata": {},
     "output_type": "display_data"
    }
   ],
   "source": [
    "df.boxplot(['sp.ent', 'meanfreq'], 'label')"
   ]
  },
  {
   "cell_type": "markdown",
   "metadata": {},
   "source": [
    "Data Distribution Statistics:\n",
    "\n",
    "Mean frequency of a female voice is slightly higher than the males."
   ]
  },
  {
   "cell_type": "code",
   "execution_count": 77,
   "metadata": {},
   "outputs": [
    {
     "data": {
      "text/plain": [
       "array([<matplotlib.axes._subplots.AxesSubplot object at 0x1190d9780>,\n",
       "       <matplotlib.axes._subplots.AxesSubplot object at 0x119051358>], dtype=object)"
      ]
     },
     "execution_count": 77,
     "metadata": {},
     "output_type": "execute_result"
    },
    {
     "data": {
      "image/png": "[encoded data removed]",
      "text/plain": [
       "<matplotlib.figure.Figure at 0x1190b7b70>"
      ]
     },
     "metadata": {},
     "output_type": "display_data"
    }
   ],
   "source": [
    "df.boxplot(['minfun', 'maxfun'], 'label')"
   ]
  },
  {
   "cell_type": "code",
   "execution_count": 78,
   "metadata": {
    "scrolled": true
   },
   "outputs": [
    {
     "data": {
      "text/plain": [
       "array([<matplotlib.axes._subplots.AxesSubplot object at 0x1193281d0>,\n",
       "       <matplotlib.axes._subplots.AxesSubplot object at 0x1192bb6a0>], dtype=object)"
      ]
     },
     "execution_count": 78,
     "metadata": {},
     "output_type": "execute_result"
    },
    {
     "data": {
      "image/png": "[encoded data removed]",
      "text/plain": [
       "<matplotlib.figure.Figure at 0x11933f1d0>"
      ]
     },
     "metadata": {},
     "output_type": "display_data"
    }
   ],
   "source": [
    "df.boxplot(['Q25', 'Q75'], 'label')"
   ]
  },
  {
   "cell_type": "code",
   "execution_count": 79,
   "metadata": {},
   "outputs": [
    {
     "data": {
      "text/plain": [
       "<matplotlib.axes._subplots.AxesSubplot at 0x119454d30>"
      ]
     },
     "execution_count": 79,
     "metadata": {},
     "output_type": "execute_result"
    },
    {
     "data": {
      "image/png": "[encoded data removed]",
      "text/plain": [
       "<matplotlib.figure.Figure at 0x11940c8d0>"
      ]
     },
     "metadata": {},
     "output_type": "display_data"
    }
   ],
   "source": [
    "df.boxplot(['sp.ent'], 'label')"
   ]
  },
  {
   "cell_type": "code",
   "execution_count": 80,
   "metadata": {},
   "outputs": [
    {
     "data": {
      "text/plain": [
       "<matplotlib.axes._subplots.AxesSubplot at 0x119686b38>"
      ]
     },
     "execution_count": 80,
     "metadata": {},
     "output_type": "execute_result"
    },
    {
     "data": {
      "image/png": "[encoded data removed]",
      "text/plain": [
       "<matplotlib.figure.Figure at 0x1196386d8>"
      ]
     },
     "metadata": {},
     "output_type": "display_data"
    }
   ],
   "source": [
    "df.boxplot(['minfun'], 'label')"
   ]
  },
  {
   "cell_type": "code",
   "execution_count": 81,
   "metadata": {},
   "outputs": [
    {
     "data": {
      "text/plain": [
       "<matplotlib.axes._subplots.AxesSubplot at 0x1196186d8>"
      ]
     },
     "execution_count": 81,
     "metadata": {},
     "output_type": "execute_result"
    },
    {
     "data": {
      "image/png": "[encoded data removed]",
      "text/plain": [
       "<matplotlib.figure.Figure at 0x119625cc0>"
      ]
     },
     "metadata": {},
     "output_type": "display_data"
    }
   ],
   "source": [
    "df.boxplot(['maxfun'], 'label')"
   ]
  },
  {
   "cell_type": "code",
   "execution_count": 82,
   "metadata": {},
   "outputs": [
    {
     "data": {
      "text/plain": [
       "<matplotlib.axes._subplots.AxesSubplot at 0x11980e160>"
      ]
     },
     "execution_count": 82,
     "metadata": {},
     "output_type": "execute_result"
    },
    {
     "data": {
      "image/png": "[encoded data removed]",
      "text/plain": [
       "<matplotlib.figure.Figure at 0x119874cc0>"
      ]
     },
     "metadata": {},
     "output_type": "display_data"
    }
   ],
   "source": [
    "\n",
    "df.boxplot(['sd'], 'label')"
   ]
  },
  {
   "cell_type": "markdown",
   "metadata": {},
   "source": [
    "Data Distribution ad Statistics: \n",
    "\n",
    "sd < .04 == Female, can ro"
   ]
  },
  {
   "cell_type": "code",
   "execution_count": 83,
   "metadata": {},
   "outputs": [
    {
     "data": {
      "text/plain": [
       "<matplotlib.axes._subplots.AxesSubplot at 0x119991080>"
      ]
     },
     "execution_count": 83,
     "metadata": {},
     "output_type": "execute_result"
    },
    {
     "data": {
      "image/png": "[encoded data removed]",
      "text/plain": [
       "<matplotlib.figure.Figure at 0x11961e710>"
      ]
     },
     "metadata": {},
     "output_type": "display_data"
    }
   ],
   "source": [
    "df.boxplot(['meanfreq'],'label')"
   ]
  },
  {
   "cell_type": "code",
   "execution_count": 84,
   "metadata": {},
   "outputs": [
    {
     "data": {
      "text/plain": [
       "<matplotlib.axes._subplots.AxesSubplot at 0x119c4fcc0>"
      ]
     },
     "execution_count": 84,
     "metadata": {},
     "output_type": "execute_result"
    },
    {
     "data": {
      "image/png": "[encoded data removed]",
      "text/plain": [
       "<matplotlib.figure.Figure at 0x119a15ac8>"
      ]
     },
     "metadata": {},
     "output_type": "display_data"
    }
   ],
   "source": [
    "df.boxplot(['mode'], 'label')"
   ]
  },
  {
   "cell_type": "markdown",
   "metadata": {},
   "source": [
    "Data Distribution Statistics: \n",
    "\n",
    "Mode < 0.12 == Male Voice. Can classify approximately upto 30-40% of male voice signals. Also, mode of a female voice is higher than a male voice inicating that females speak at higher frequencies more often in comparison."
   ]
  },
  {
   "cell_type": "code",
   "execution_count": 85,
   "metadata": {},
   "outputs": [
    {
     "data": {
      "text/plain": [
       "<matplotlib.axes._subplots.AxesSubplot at 0x119c819b0>"
      ]
     },
     "execution_count": 85,
     "metadata": {},
     "output_type": "execute_result"
    },
    {
     "data": {
      "image/png": "[encoded data removed]",
      "text/plain": [
       "<matplotlib.figure.Figure at 0x119b13eb8>"
      ]
     },
     "metadata": {},
     "output_type": "display_data"
    }
   ],
   "source": [
    "df.boxplot(['median'], 'label')"
   ]
  },
  {
   "cell_type": "code",
   "execution_count": 86,
   "metadata": {},
   "outputs": [
    {
     "data": {
      "text/plain": [
       "<matplotlib.axes._subplots.AxesSubplot at 0x119e00358>"
      ]
     },
     "execution_count": 86,
     "metadata": {},
     "output_type": "execute_result"
    },
    {
     "data": {
      "image/png": "[encoded data removed]",
      "text/plain": [
       "<matplotlib.figure.Figure at 0x119f11550>"
      ]
     },
     "metadata": {},
     "output_type": "display_data"
    }
   ],
   "source": [
    "df.boxplot(['IQR'], 'label')"
   ]
  },
  {
   "cell_type": "code",
   "execution_count": 87,
   "metadata": {
    "scrolled": true
   },
   "outputs": [
    {
     "data": {
      "text/plain": [
       "<matplotlib.axes._subplots.AxesSubplot at 0x119b05e10>"
      ]
     },
     "execution_count": 87,
     "metadata": {},
     "output_type": "execute_result"
    },
    {
     "data": {
      "image/png": "[encoded data removed]",
      "text/plain": [
       "<matplotlib.figure.Figure at 0x119f32470>"
      ]
     },
     "metadata": {},
     "output_type": "display_data"
    }
   ],
   "source": [
    "df.boxplot(['meanfun'], 'label')"
   ]
  },
  {
   "cell_type": "code",
   "execution_count": 88,
   "metadata": {
    "scrolled": true
   },
   "outputs": [
    {
     "data": {
      "text/plain": [
       "array([[<matplotlib.axes._subplots.AxesSubplot object at 0x11a1df470>]], dtype=object)"
      ]
     },
     "execution_count": 88,
     "metadata": {},
     "output_type": "execute_result"
    },
    {
     "data": {
      "image/png": "[encoded data removed]",
      "text/plain": [
       "<matplotlib.figure.Figure at 0x11a0a0e10>"
      ]
     },
     "metadata": {},
     "output_type": "display_data"
    }
   ],
   "source": [
    "df.hist(column='meanfreq')"
   ]
  },
  {
   "cell_type": "code",
   "execution_count": 89,
   "metadata": {},
   "outputs": [
    {
     "data": {
      "text/plain": [
       "array([[<matplotlib.axes._subplots.AxesSubplot object at 0x11a233f60>]], dtype=object)"
      ]
     },
     "execution_count": 89,
     "metadata": {},
     "output_type": "execute_result"
    },
    {
     "data": {
      "image/png": "[encoded data removed]",
      "text/plain": [
       "<matplotlib.figure.Figure at 0x11a0a0cc0>"
      ]
     },
     "metadata": {},
     "output_type": "display_data"
    }
   ],
   "source": [
    "df.hist(column='sd')"
   ]
  },
  {
   "cell_type": "code",
   "execution_count": 90,
   "metadata": {},
   "outputs": [
    {
     "data": {
      "text/plain": [
       "array([[<matplotlib.axes._subplots.AxesSubplot object at 0x11a325e48>]], dtype=object)"
      ]
     },
     "execution_count": 90,
     "metadata": {},
     "output_type": "execute_result"
    },
    {
     "data": {
      "image/png": "[encoded data removed]",
      "text/plain": [
       "<matplotlib.figure.Figure at 0x11a4bb828>"
      ]
     },
     "metadata": {},
     "output_type": "display_data"
    }
   ],
   "source": [
    "df.hist(column='mode')"
   ]
  },
  {
   "cell_type": "code",
   "execution_count": 91,
   "metadata": {},
   "outputs": [
    {
     "data": {
      "text/plain": [
       "array([[<matplotlib.axes._subplots.AxesSubplot object at 0x11a561748>]], dtype=object)"
      ]
     },
     "execution_count": 91,
     "metadata": {},
     "output_type": "execute_result"
    },
    {
     "data": {
      "image/png": "[encoded data removed]",
      "text/plain": [
       "<matplotlib.figure.Figure at 0x11a617f98>"
      ]
     },
     "metadata": {},
     "output_type": "display_data"
    }
   ],
   "source": [
    "df.hist(column='meanfun')"
   ]
  },
  {
   "cell_type": "code",
   "execution_count": 92,
   "metadata": {},
   "outputs": [
    {
     "data": {
      "text/plain": [
       "array([[<matplotlib.axes._subplots.AxesSubplot object at 0x11a716b70>]], dtype=object)"
      ]
     },
     "execution_count": 92,
     "metadata": {},
     "output_type": "execute_result"
    },
    {
     "data": {
      "image/png": "[encoded data removed]",
      "text/plain": [
       "<matplotlib.figure.Figure at 0x11a71bef0>"
      ]
     },
     "metadata": {},
     "output_type": "display_data"
    }
   ],
   "source": [
    "df.hist(column='minfun')"
   ]
  },
  {
   "cell_type": "code",
   "execution_count": 93,
   "metadata": {},
   "outputs": [
    {
     "data": {
      "text/plain": [
       "array([[<matplotlib.axes._subplots.AxesSubplot object at 0x11a86c048>]], dtype=object)"
      ]
     },
     "execution_count": 93,
     "metadata": {},
     "output_type": "execute_result"
    },
    {
     "data": {
      "image/png": "[encoded data removed]",
      "text/plain": [
       "<matplotlib.figure.Figure at 0x11a81ce10>"
      ]
     },
     "metadata": {},
     "output_type": "display_data"
    }
   ],
   "source": [
    "df.hist(column='maxfun')"
   ]
  },
  {
   "cell_type": "code",
   "execution_count": 94,
   "metadata": {},
   "outputs": [
    {
     "data": {
      "text/plain": [
       "array([[<matplotlib.axes._subplots.AxesSubplot object at 0x11a6bd4e0>]], dtype=object)"
      ]
     },
     "execution_count": 94,
     "metadata": {},
     "output_type": "execute_result"
    },
    {
     "data": {
      "image/png": "[encoded data removed]",
      "text/plain": [
       "<matplotlib.figure.Figure at 0x11a71b940>"
      ]
     },
     "metadata": {},
     "output_type": "display_data"
    }
   ],
   "source": [
    "df.hist(column='IQR')"
   ]
  },
  {
   "cell_type": "code",
   "execution_count": 95,
   "metadata": {},
   "outputs": [
    {
     "data": {
      "text/plain": [
       "array([[<matplotlib.axes._subplots.AxesSubplot object at 0x11aa8f438>]], dtype=object)"
      ]
     },
     "execution_count": 95,
     "metadata": {},
     "output_type": "execute_result"
    },
    {
     "data": {
      "image/png": "[encoded data removed]",
      "text/plain": [
       "<matplotlib.figure.Figure at 0x11a8101d0>"
      ]
     },
     "metadata": {},
     "output_type": "display_data"
    }
   ],
   "source": [
    "df.hist(column='median')"
   ]
  },
  {
   "cell_type": "code",
   "execution_count": 96,
   "metadata": {},
   "outputs": [
    {
     "data": {
      "text/plain": [
       "array([[<matplotlib.axes._subplots.AxesSubplot object at 0x11ab852e8>]], dtype=object)"
      ]
     },
     "execution_count": 96,
     "metadata": {},
     "output_type": "execute_result"
    },
    {
     "data": {
      "image/png": "[encoded data removed]",
      "text/plain": [
       "<matplotlib.figure.Figure at 0x11a9ef278>"
      ]
     },
     "metadata": {},
     "output_type": "display_data"
    }
   ],
   "source": [
    "df.hist(column='sp.ent')"
   ]
  },
  {
   "cell_type": "code",
   "execution_count": 97,
   "metadata": {},
   "outputs": [
    {
     "data": {
      "text/plain": [
       "<matplotlib.axes._subplots.AxesSubplot at 0x11acd8860>"
      ]
     },
     "execution_count": 97,
     "metadata": {},
     "output_type": "execute_result"
    },
    {
     "data": {
      "image/png": "[encoded data removed]",
      "text/plain": [
       "<matplotlib.figure.Figure at 0x11a6297b8>"
      ]
     },
     "metadata": {},
     "output_type": "display_data"
    }
   ],
   "source": [
    "df.plot( x='label', y='meanfun', kind='hist')\n"
   ]
  },
  {
   "cell_type": "code",
   "execution_count": 98,
   "metadata": {},
   "outputs": [
    {
     "data": {
      "text/plain": [
       "array([<matplotlib.axes._subplots.AxesSubplot object at 0x11af85400>,\n",
       "       <matplotlib.axes._subplots.AxesSubplot object at 0x11b0b7710>], dtype=object)"
      ]
     },
     "execution_count": 98,
     "metadata": {},
     "output_type": "execute_result"
    },
    {
     "data": {
      "image/png": "[encoded data removed]",
      "text/plain": [
       "<matplotlib.figure.Figure at 0x11ae75828>"
      ]
     },
     "metadata": {},
     "output_type": "display_data"
    }
   ],
   "source": [
    "df.hist(column=\"meanfun\", by=\"label\")"
   ]
  },
  {
   "cell_type": "code",
   "execution_count": 99,
   "metadata": {},
   "outputs": [
    {
     "data": {
      "text/plain": [
       "array([<matplotlib.axes._subplots.AxesSubplot object at 0x11b18b358>,\n",
       "       <matplotlib.axes._subplots.AxesSubplot object at 0x11b1d64e0>], dtype=object)"
      ]
     },
     "execution_count": 99,
     "metadata": {},
     "output_type": "execute_result"
    },
    {
     "data": {
      "image/png": "[encoded data removed]",
      "text/plain": [
       "<matplotlib.figure.Figure at 0x11ad0d5f8>"
      ]
     },
     "metadata": {},
     "output_type": "display_data"
    }
   ],
   "source": [
    "df.hist(column=\"IQR\", by=\"label\")"
   ]
  },
  {
   "cell_type": "code",
   "execution_count": 100,
   "metadata": {},
   "outputs": [
    {
     "data": {
      "text/plain": [
       "array([<matplotlib.axes._subplots.AxesSubplot object at 0x11b246358>,\n",
       "       <matplotlib.axes._subplots.AxesSubplot object at 0x11b3e92e8>], dtype=object)"
      ]
     },
     "execution_count": 100,
     "metadata": {},
     "output_type": "execute_result"
    },
    {
     "data": {
      "image/png": "[encoded data removed]",
      "text/plain": [
       "<matplotlib.figure.Figure at 0x11b2d39e8>"
      ]
     },
     "metadata": {},
     "output_type": "display_data"
    }
   ],
   "source": [
    "df.hist(column=\"mode\", by=\"label\")"
   ]
  },
  {
   "cell_type": "code",
   "execution_count": 101,
   "metadata": {},
   "outputs": [
    {
     "data": {
      "text/plain": [
       "array([<matplotlib.axes._subplots.AxesSubplot object at 0x11b5557b8>,\n",
       "       <matplotlib.axes._subplots.AxesSubplot object at 0x11b5b17b8>], dtype=object)"
      ]
     },
     "execution_count": 101,
     "metadata": {},
     "output_type": "execute_result"
    },
    {
     "data": {
      "image/png": "[encoded data removed]",
      "text/plain": [
       "<matplotlib.figure.Figure at 0x11b6389b0>"
      ]
     },
     "metadata": {},
     "output_type": "display_data"
    }
   ],
   "source": [
    "df.hist(column=\"sp.ent\", by=\"label\")"
   ]
  },
  {
   "cell_type": "code",
   "execution_count": 102,
   "metadata": {},
   "outputs": [
    {
     "data": {
      "text/plain": [
       "array([<matplotlib.axes._subplots.AxesSubplot object at 0x11b7a7860>,\n",
       "       <matplotlib.axes._subplots.AxesSubplot object at 0x11b7ffdd8>], dtype=object)"
      ]
     },
     "execution_count": 102,
     "metadata": {},
     "output_type": "execute_result"
    },
    {
     "data": {
      "image/png": "[encoded data removed]",
      "text/plain": [
       "<matplotlib.figure.Figure at 0x11a629940>"
      ]
     },
     "metadata": {},
     "output_type": "display_data"
    }
   ],
   "source": [
    "df.hist(column=\"minfun\", by=\"label\")"
   ]
  },
  {
   "cell_type": "code",
   "execution_count": 103,
   "metadata": {},
   "outputs": [
    {
     "data": {
      "text/plain": [
       "array([<matplotlib.axes._subplots.AxesSubplot object at 0x11b969908>,\n",
       "       <matplotlib.axes._subplots.AxesSubplot object at 0x11bb13da0>], dtype=object)"
      ]
     },
     "execution_count": 103,
     "metadata": {},
     "output_type": "execute_result"
    },
    {
     "data": {
      "image/png": "[encoded data removed]",
      "text/plain": [
       "<matplotlib.figure.Figure at 0x11b9bcf98>"
      ]
     },
     "metadata": {},
     "output_type": "display_data"
    }
   ],
   "source": [
    "df.hist(column=\"maxfun\", by=\"label\")"
   ]
  },
  {
   "cell_type": "code",
   "execution_count": 104,
   "metadata": {},
   "outputs": [
    {
     "data": {
      "text/plain": [
       "array([<matplotlib.axes._subplots.AxesSubplot object at 0x11bbf3588>,\n",
       "       <matplotlib.axes._subplots.AxesSubplot object at 0x11bd329e8>], dtype=object)"
      ]
     },
     "execution_count": 104,
     "metadata": {},
     "output_type": "execute_result"
    },
    {
     "data": {
      "image/png": "[encoded data removed]",
      "text/plain": [
       "<matplotlib.figure.Figure at 0x11ac9f7f0>"
      ]
     },
     "metadata": {},
     "output_type": "display_data"
    }
   ],
   "source": [
    "df.hist(column=\"Q25\", by=\"label\")"
   ]
  },
  {
   "cell_type": "code",
   "execution_count": 105,
   "metadata": {},
   "outputs": [
    {
     "data": {
      "text/plain": [
       "array([<matplotlib.axes._subplots.AxesSubplot object at 0x11bdae668>,\n",
       "       <matplotlib.axes._subplots.AxesSubplot object at 0x11beda240>], dtype=object)"
      ]
     },
     "execution_count": 105,
     "metadata": {},
     "output_type": "execute_result"
    },
    {
     "data": {
      "image/png": "[encoded data removed]",
      "text/plain": [
       "<matplotlib.figure.Figure at 0x11be02c88>"
      ]
     },
     "metadata": {},
     "output_type": "display_data"
    }
   ],
   "source": [
    "df.hist(column=\"Q75\", by=\"label\")"
   ]
  },
  {
   "cell_type": "code",
   "execution_count": 106,
   "metadata": {},
   "outputs": [
    {
     "data": {
      "text/plain": [
       "array([<matplotlib.axes._subplots.AxesSubplot object at 0x11c04d4e0>,\n",
       "       <matplotlib.axes._subplots.AxesSubplot object at 0x11bfe2860>], dtype=object)"
      ]
     },
     "execution_count": 106,
     "metadata": {},
     "output_type": "execute_result"
    },
    {
     "data": {
      "image/png": "[encoded data removed]",
      "text/plain": [
       "<matplotlib.figure.Figure at 0x11c069978>"
      ]
     },
     "metadata": {},
     "output_type": "display_data"
    }
   ],
   "source": [
    "df.hist(column=\"meanfreq\", by=\"label\")"
   ]
  },
  {
   "cell_type": "code",
   "execution_count": 107,
   "metadata": {},
   "outputs": [
    {
     "data": {
      "text/plain": [
       "array([<matplotlib.axes._subplots.AxesSubplot object at 0x11c162f60>,\n",
       "       <matplotlib.axes._subplots.AxesSubplot object at 0x11c1f16d8>], dtype=object)"
      ]
     },
     "execution_count": 107,
     "metadata": {},
     "output_type": "execute_result"
    },
    {
     "data": {
      "image/png": "[encoded data removed]",
      "text/plain": [
       "<matplotlib.figure.Figure at 0x11b1e4438>"
      ]
     },
     "metadata": {},
     "output_type": "display_data"
    }
   ],
   "source": [
    "df.hist(column=\"median\", by=\"label\")"
   ]
  },
  {
   "cell_type": "code",
   "execution_count": 108,
   "metadata": {},
   "outputs": [
    {
     "data": {
      "text/plain": [
       "array([<matplotlib.axes._subplots.AxesSubplot object at 0x11c200400>,\n",
       "       <matplotlib.axes._subplots.AxesSubplot object at 0x11c43dc88>], dtype=object)"
      ]
     },
     "execution_count": 108,
     "metadata": {},
     "output_type": "execute_result"
    },
    {
     "data": {
      "image/png": "[encoded data removed]",
      "text/plain": [
       "<matplotlib.figure.Figure at 0x11c400198>"
      ]
     },
     "metadata": {},
     "output_type": "display_data"
    }
   ],
   "source": [
    "df.hist(column=\"sd\", by=\"label\")"
   ]
  },
  {
   "cell_type": "markdown",
   "metadata": {},
   "source": []
  },
  {
   "cell_type": "code",
   "execution_count": 109,
   "metadata": {
    "scrolled": true
   },
   "outputs": [
    {
     "data": {
      "image/png": "[encoded data removed]",
      "text/plain": [
       "<matplotlib.figure.Figure at 0x11ab8aeb8>"
      ]
     },
     "metadata": {},
     "output_type": "display_data"
    }
   ],
   "source": [
    "\n",
    "\n",
    "df.scatter1 = pd.DataFrame(np.random.randn(100, 6), columns=['meanfun', 'IQR', 'sp.ent', 'mode', 'sd', 'median'])\n",
    "\n",
    "\n",
    "ax1 = df.plot(kind='scatter', x='meanfun', y='IQR', color='r')    \n",
    "ax2 = df.plot(kind='scatter', x='mode', y='median', color='g', ax=ax1)    \n",
    "ax3 = df.plot(kind='scatter', x='sd', y='sp.ent', color='b', ax=ax1)\n",
    "\n"
   ]
  },
  {
   "cell_type": "code",
   "execution_count": 110,
   "metadata": {
    "scrolled": true
   },
   "outputs": [
    {
     "data": {
      "image/png": "[encoded data removed]",
      "text/plain": [
       "<matplotlib.figure.Figure at 0x11bdeff28>"
      ]
     },
     "metadata": {},
     "output_type": "display_data"
    }
   ],
   "source": [
    "df.scatter1 = pd.DataFrame(np.random.randn(100, 6), columns=['meanfun', 'IQR', 'sp.ent', 'mode', 'sd', 'median'])\n",
    "\n",
    "\n",
    "ax1 = df.plot(kind='scatter', x='meanfun', y='median', color='r')    \n",
    "ax2 = df.plot(kind='scatter', x='mode', y='sd', color='g', ax=ax1)    \n",
    "ax3 = df.plot(kind='scatter', x='IQR', y='sp.ent', color='b', ax=ax1)"
   ]
  },
  {
   "cell_type": "code",
   "execution_count": null,
   "metadata": {
    "collapsed": true
   },
   "outputs": [],
   "source": []
  },
  {
   "cell_type": "code",
   "execution_count": 111,
   "metadata": {},
   "outputs": [
    {
     "data": {
      "image/png": "[encoded data removed]",
      "text/plain": [
       "<matplotlib.figure.Figure at 0x11ba826a0>"
      ]
     },
     "metadata": {},
     "output_type": "display_data"
    }
   ],
   "source": [
    "df.scatter2 = pd.DataFrame(np.random.randn(100, 2), columns=['meanfun', 'IQR'])\n",
    "\n",
    "\n",
    "ax1 = df.plot(kind='scatter', x='meanfun', y='IQR', color='r')  \n"
   ]
  },
  {
   "cell_type": "code",
   "execution_count": 112,
   "metadata": {},
   "outputs": [
    {
     "data": {
      "image/png": "[encoded data removed]",
      "text/plain": [
       "<matplotlib.figure.Figure at 0x11b33f080>"
      ]
     },
     "metadata": {},
     "output_type": "display_data"
    }
   ],
   "source": [
    "df.scatter3 = pd.DataFrame(np.random.randn(100, 2), columns=['meanfun', 'sp.ent'])\n",
    "\n",
    "\n",
    "ax1 = df.plot(kind='scatter', x='meanfun', y= 'sp.ent', color='r')  "
   ]
  },
  {
   "cell_type": "code",
   "execution_count": 113,
   "metadata": {},
   "outputs": [
    {
     "data": {
      "text/plain": [
       "<matplotlib.axes._subplots.AxesSubplot at 0x11cafe198>"
      ]
     },
     "execution_count": 113,
     "metadata": {},
     "output_type": "execute_result"
    },
    {
     "data": {
      "image/png": "[encoded data removed]",
      "text/plain": [
       "<matplotlib.figure.Figure at 0x11cb0bcc0>"
      ]
     },
     "metadata": {},
     "output_type": "display_data"
    }
   ],
   "source": [
    "corrmat=df.corr()\n",
    "sns.heatmap(corrmat,linewidths=0.25,vmax=1.0, square=True, cmap=\"YlGnBu\", linecolor='black')"
   ]
  },
  {
   "cell_type": "markdown",
   "metadata": {},
   "source": [
    "Summary of the Distribution: \n",
    "\n",
    "The dataset is a collection of audio signals of both genders, female and male. The aim is to classify the voice signals into specific gender, based on the values recorded. Also, the normal human voice range is 0 to 280 Hz (or 0 to 0.280 kHz), hence anything that falls outside this range can be conveniently regarded as bad data/anomalies. Most of the data falls into the frequency range of 0.14 kHz to 0.22 kHz. Also, from the scatter plots, we can see that IQR and meanfun values cannot be clustered into different groups and hence cann be combined together to get a more accurate result.\n",
    "\n",
    "Most important feature to identify a voice as a male or a female voice is meanfun(Mean of fundamental frequencies)\n",
    "Meanfun. < 0.125 = Male and >0.16 = Female. (Covers accurate prediction of 75% of both male and female values)\n",
    "\n",
    "Other important classifiers can be:ot\n",
    "\n",
    "InterQuartileRange(IQR) < 0.7 = Female and > 0.11 = Male (can predict 80% of female inputs and 50% of male inputs)\n",
    "Spectral Entropy (sp.ent) — It is a measure of how predictable our input data is. Based on observations from the graph, indicates that a females' voice (0.85- 0.9) is more predictable than a males' (0.9-0.95)\n",
    "Standard Deviaton (sd) < .04 = Female - Females show a less deviation while speaking, while maintaing thier pitch better in comparison.  \n",
    "\n",
    "Overall, an accuracy of 75-85 % can be expected from the dataset.\n",
    "\n",
    "For enhacing the accuracy, the dataset must include more features, say, age, mood, place where the audio signal is captured, etc, as these affect the voice signals directly and regression tests should be carried on the dataset to enhance the accuracy level\n",
    "\n"
   ]
  }
 ],
 "metadata": {
  "kernelspec": {
   "display_name": "Python 3",
   "language": "python",
   "name": "python3"
  },
  "language_info": {
   "codemirror_mode": {
    "name": "ipython",
    "version": 3
   },
   "file_extension": ".py",
   "mimetype": "text/x-python",
   "name": "python",
   "nbconvert_exporter": "python",
   "pygments_lexer": "ipython3",
   "version": "3.6.1"
  }
 },
 "nbformat": 4,
 "nbformat_minor": 2
}
