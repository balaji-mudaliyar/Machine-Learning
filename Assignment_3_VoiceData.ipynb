{
 "cells": [
  {
   "cell_type": "code",
   "execution_count": 1,
   "metadata": {
    "collapsed": true
   },
   "outputs": [],
   "source": [
    "%python\n",
    "\n",
    "voice = sqlContext.read.format('csv').options(header='true', inferSchema='true').load('/FileStore/tables/voice_data-4cec9.csv')\n",
    "\n",
    "display(voice)"
   ]
  },
  {
   "cell_type": "code",
   "execution_count": 1,
   "metadata": {},
   "outputs": [
    {
     "name": "stderr",
     "output_type": "stream",
     "text": [
      "ERROR:root:Line magic function `%python` not found (But cell magic `%%python` exists, did you mean that instead?).\n"
     ]
    },
    {
     "ename": "NameError",
     "evalue": "name 'sqlContext' is not defined",
     "output_type": "error",
     "traceback": [
      "\u001b[1;31m---------------------------------------------------------------------------\u001b[0m",
      "\u001b[1;31mNameError\u001b[0m                                 Traceback (most recent call last)",
      "\u001b[1;32m<ipython-input-1-4ce1352fd9c7>\u001b[0m in \u001b[0;36m<module>\u001b[1;34m()\u001b[0m\n\u001b[0;32m      1\u001b[0m \u001b[0mget_ipython\u001b[0m\u001b[1;33m(\u001b[0m\u001b[1;33m)\u001b[0m\u001b[1;33m.\u001b[0m\u001b[0mmagic\u001b[0m\u001b[1;33m(\u001b[0m\u001b[1;34m'python'\u001b[0m\u001b[1;33m)\u001b[0m\u001b[1;33m\u001b[0m\u001b[0m\n\u001b[0;32m      2\u001b[0m \u001b[1;33m\u001b[0m\u001b[0m\n\u001b[1;32m----> 3\u001b[1;33m \u001b[0mvoice\u001b[0m \u001b[1;33m=\u001b[0m \u001b[0msqlContext\u001b[0m\u001b[1;33m.\u001b[0m\u001b[0mread\u001b[0m\u001b[1;33m.\u001b[0m\u001b[0mformat\u001b[0m\u001b[1;33m(\u001b[0m\u001b[1;34m'csv'\u001b[0m\u001b[1;33m)\u001b[0m\u001b[1;33m.\u001b[0m\u001b[0moptions\u001b[0m\u001b[1;33m(\u001b[0m\u001b[0mheader\u001b[0m\u001b[1;33m=\u001b[0m\u001b[1;34m'true'\u001b[0m\u001b[1;33m,\u001b[0m \u001b[0minferSchema\u001b[0m\u001b[1;33m=\u001b[0m\u001b[1;34m'true'\u001b[0m\u001b[1;33m)\u001b[0m\u001b[1;33m.\u001b[0m\u001b[0mload\u001b[0m\u001b[1;33m(\u001b[0m\u001b[1;34m'voice_data-4cec9.csv'\u001b[0m\u001b[1;33m)\u001b[0m\u001b[1;33m\u001b[0m\u001b[0m\n\u001b[0m\u001b[0;32m      4\u001b[0m \u001b[1;33m\u001b[0m\u001b[0m\n\u001b[0;32m      5\u001b[0m \u001b[0mdisplay\u001b[0m\u001b[1;33m(\u001b[0m\u001b[0mvoice\u001b[0m\u001b[1;33m)\u001b[0m\u001b[1;33m\u001b[0m\u001b[0m\n",
      "\u001b[1;31mNameError\u001b[0m: name 'sqlContext' is not defined"
     ]
    }
   ],
   "source": [
    "%python\n",
    "\n",
    "voice = sqlContext.read.format('csv').options(header='true', inferSchema='true').load('voice_data-4cec9.csv')\n",
    "\n",
    "display(voice)"
   ]
  },
  {
   "cell_type": "code",
   "execution_count": 2,
   "metadata": {
    "collapsed": true
   },
   "outputs": [],
   "source": [
    "voice.show()"
   ]
  },
  {
   "cell_type": "code",
   "execution_count": 3,
   "metadata": {
    "collapsed": true
   },
   "outputs": [],
   "source": [
    "%python\n",
    "\n",
    "voice.printSchema()"
   ]
  },
  {
   "cell_type": "code",
   "execution_count": 4,
   "metadata": {
    "collapsed": true
   },
   "outputs": [],
   "source": [
    "voice.select(\"sd\").show()"
   ]
  },
  {
   "cell_type": "code",
   "execution_count": 5,
   "metadata": {
    "collapsed": true
   },
   "outputs": [],
   "source": [
    "# Register the DataFrame as a SQL temporary view\n",
    "voice.createOrReplaceTempView(\"VoiceData\")\n",
    "\n",
    "sqlDF = spark.sql(\"SELECT * FROM VoiceData\")\n",
    "sqlDF.show()"
   ]
  },
  {
   "cell_type": "code",
   "execution_count": 6,
   "metadata": {
    "collapsed": true
   },
   "outputs": [],
   "source": [
    "List of Sql queries:\n",
    "  \n",
    "  1. Query to fetch the total number no. of females below an InterQuartileRange of 0.07 (Based on analysis it should return ~80% of female data)\n",
    "  2. Query to fetch the total number of females with mean fundamental frequency greater than 0.16 (Based on analysis should retrieve ~75% of female data)\n",
    "  3. Query to fetch the total number of males with mean fundamental frequency less than 0.125 (Based on analysis should retrieve ~75% of male data)\n",
    "  4. Query to fetch the total number of males with InterQuartileRange greater than 0.11 (Based on analysis should retrieve ~50% of male data)\n",
    "  5. Query to fetch the total number of males with Standard Deviation less than 0.04 (Based on analysis should retrieve ~50% of female data)\n",
    "  \n",
    "  Combining the cnditions will reduce the rows fetched, indicating the dependency/correlation between the columns."
   ]
  },
  {
   "cell_type": "code",
   "execution_count": 7,
   "metadata": {
    "collapsed": true
   },
   "outputs": [],
   "source": [
    "sqlDF = spark.sql(\"SELECT count(*) FROM VoiceData where label == 'female' \")\n",
    "sqlDF.show()"
   ]
  },
  {
   "cell_type": "code",
   "execution_count": 8,
   "metadata": {
    "collapsed": true
   },
   "outputs": [],
   "source": [
    "sqlDF = spark.sql(\"SELECT count(*) FROM VoiceData where label == 'male' \")\n",
    "sqlDF.show()"
   ]
  },
  {
   "cell_type": "code",
   "execution_count": 9,
   "metadata": {
    "collapsed": true
   },
   "outputs": [],
   "source": [
    "sqlDF = spark.sql(\"SELECT count(*) FROM VoiceData where (IQR < 0.07) and (label == 'female') \")\n",
    "sqlDF.show()"
   ]
  },
  {
   "cell_type": "code",
   "execution_count": 10,
   "metadata": {
    "collapsed": true
   },
   "outputs": [],
   "source": [
    "sqlDF = spark.sql(\"SELECT count(*) FROM VoiceData where (meanfun > 0.16) and (label == 'female') \")\n",
    "sqlDF.show()"
   ]
  },
  {
   "cell_type": "code",
   "execution_count": 11,
   "metadata": {
    "collapsed": true
   },
   "outputs": [],
   "source": [
    "sqlDF = spark.sql(\"SELECT count(*) FROM VoiceData where (meanfun < 0.125) and (label == 'male') \")\n",
    "sqlDF.show()"
   ]
  },
  {
   "cell_type": "code",
   "execution_count": 12,
   "metadata": {
    "collapsed": true
   },
   "outputs": [],
   "source": [
    "sqlDF = spark.sql(\"SELECT count(*) FROM VoiceData where (IQR > 0.11) and (label == 'male') \")\n",
    "sqlDF.show()"
   ]
  },
  {
   "cell_type": "code",
   "execution_count": 13,
   "metadata": {
    "collapsed": true
   },
   "outputs": [],
   "source": [
    "sqlDF = spark.sql(\"SELECT count(*) FROM VoiceData where (sd < 0.04) and (label == 'female') \")\n",
    "sqlDF.show()"
   ]
  },
  {
   "cell_type": "code",
   "execution_count": 14,
   "metadata": {
    "collapsed": true
   },
   "outputs": [],
   "source": [
    "Time it took to run the quries:\n",
    "  \n",
    "  1. Query to fetch the total number no. of females below an InterQuartileRange of 0.07  ~ 0.33 seconds\n",
    "  2. Query to fetch the total number of females with mean fundamental frequency greater than 0.16  ~ 0.23 seconds\n",
    "  3. Query to fetch the total number of males with mean fundamental frequency less than 0.125 ~ 1.41 seconds\n",
    "  4. Query to fetch the total number of males with InterQuartileRange greater than 0.11 ~ 0.27 seconds\n",
    "  5. Query to fetch the total number of males with Standard Deviation less than 0.04 ~ 0.47 seconds\n",
    "  "
   ]
  },
  {
   "cell_type": "code",
   "execution_count": 15,
   "metadata": {
    "collapsed": true
   },
   "outputs": [],
   "source": []
  }
 ],
 "metadata": {
  "kernelspec": {
   "display_name": "Python 3",
   "language": "python",
   "name": "python3"
  },
  "language_info": {
   "codemirror_mode": {
    "name": "ipython",
    "version": 3
   },
   "file_extension": ".py",
   "mimetype": "text/x-python",
   "name": "python",
   "nbconvert_exporter": "python",
   "pygments_lexer": "ipython3",
   "version": "3.6.1"
  },
  "name": "Assignment_3_VoiceData",
  "notebookId": 2661307246102948
 },
 "nbformat": 4,
 "nbformat_minor": 1
}
