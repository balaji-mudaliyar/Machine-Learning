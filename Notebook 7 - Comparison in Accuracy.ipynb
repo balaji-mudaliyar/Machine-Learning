{
 "cells": [
  {
   "cell_type": "markdown",
   "metadata": {},
   "source": [
    "\n",
    "Accuracy achieved as below :\n",
    "\n",
    "    Logistic Regression ~97%\n",
    "\n",
    "    Linear Discriminant Analysis ~97%\n",
    "\n",
    "    Simple Neural Network using Tensor Flows ~94%\n",
    "\n",
    "    KNN ~98%\n",
    "\n",
    "    Decison Trees ~94%\n",
    "\n",
    "    SVM ~88%\n",
    "       \n",
    "    Naive Bayes ~ 87.62%\n",
    "    \n",
    "    Random Forest ~ 98.26%"
   ]
  }
 ],
 "metadata": {
  "kernelspec": {
   "display_name": "Python 3",
   "language": "python",
   "name": "python3"
  },
  "language_info": {
   "codemirror_mode": {
    "name": "ipython",
    "version": 3
   },
   "file_extension": ".py",
   "mimetype": "text/x-python",
   "name": "python",
   "nbconvert_exporter": "python",
   "pygments_lexer": "ipython3",
   "version": "3.6.1"
  }
 },
 "nbformat": 4,
 "nbformat_minor": 2
}
