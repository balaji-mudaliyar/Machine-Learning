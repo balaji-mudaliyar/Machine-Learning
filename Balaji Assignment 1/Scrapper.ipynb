{
 "cells": [
  {
   "cell_type": "code",
   "execution_count": 12,
   "metadata": {
    "collapsed": true
   },
   "outputs": [],
   "source": [
    "from __future__ import print_function\n",
    "import urllib3\n",
    "import unicodedata \n",
    "from bs4 import BeautifulSoup, SoupStrainer, Comment\n",
    "import warnings\n",
    "import time\n",
    "import csv\n",
    "warnings.filterwarnings('ignore')"
   ]
  },
  {
   "cell_type": "code",
   "execution_count": 13,
   "metadata": {},
   "outputs": [],
   "source": [
    "file =open('webdata.csv', 'w')\n",
    "f =csv.writer(file,delimiter=',',quotechar='\"')"
   ]
  },
  {
   "cell_type": "code",
   "execution_count": 14,
   "metadata": {
    "collapsed": true
   },
   "outputs": [],
   "source": [
    "url = 'https://www.cloudconnect.net'"
   ]
  },
  {
   "cell_type": "code",
   "execution_count": 15,
   "metadata": {},
   "outputs": [
    {
     "data": {
      "text/plain": [
       "200"
      ]
     },
     "execution_count": 15,
     "metadata": {},
     "output_type": "execute_result"
    }
   ],
   "source": [
    "pool = urllib3.PoolManager()\n",
    "response = pool.request('GET',url)\n",
    "response.status"
   ]
  },
  {
   "cell_type": "code",
   "execution_count": 16,
   "metadata": {
    "collapsed": true
   },
   "outputs": [],
   "source": [
    "soup=BeautifulSoup(response.data, \"lxml\")"
   ]
  },
  {
   "cell_type": "code",
   "execution_count": 17,
   "metadata": {},
   "outputs": [
    {
     "data": {
      "text/plain": [
       "[<a href=\"/\"><img alt=\"Cloud Connect\" src=\"/img/logo.png\"/></a>,\n",
       " <a class=\"uber\" href=\"https://cloudconnectpartner.freshdesk.com/support/home\" target=\"_blank\">Support Portal</a>,\n",
       " <a class=\"uber third\" href=\"https://iqmap.cloudconnect.net\" target=\"_blank\">IQMAP Login</a>,\n",
       " <a class=\"uber second\" href=\"https://citrix.cloudconnect.net/vpn/index.html\" target=\"_blank\">Desktop Login</a>,\n",
       " <a href=\"/solutions\">Cloud Solutions</a>,\n",
       " <a href=\"/solutions/virtual-desktop\">Cloud Desktop</a>,\n",
       " <a href=\"/solutions/virtual-server\">Cloud Infrastructure</a>,\n",
       " <a href=\"/solutions/msp-cloud\">mspCloud</a>,\n",
       " <a href=\"/solutions/private-domain\">Private Domain</a>,\n",
       " <a href=\"/partner-program\">Partner Program</a>,\n",
       " <a href=\"/partner-program/management-portal\">Management Portal</a>,\n",
       " <a href=\"/partner-program/resources\">Partner Resources</a>,\n",
       " <a href=\"/partner-program/iqmap\">IQMAP</a>,\n",
       " <a href=\"/partner-program/training\">Training</a>,\n",
       " <a href=\"/infrastructure\">Infrastructure</a>,\n",
       " <a href=\"/infrastructure/choose-your-architecture\">Choose Your Architecture</a>,\n",
       " <a href=\"/infrastructure/select-your-profile\">Select Your Storage Policy</a>,\n",
       " <a href=\"/infrastructure/the-network\">Learn About the Network</a>,\n",
       " <a href=\"/getting-started\">Getting Started</a>,\n",
       " <a href=\"/getting-started/iqmap-registration\">IQMAP Registration</a>,\n",
       " <a href=\"/getting-started/design-an-environment\">Design an Environment</a>,\n",
       " <a href=\"/getting-started/partner-enrollment\">Partner Enrollment</a>,\n",
       " <a href=\"/getting-started/schedule-tutorial\">Schedule a Tutorial</a>,\n",
       " <a href=\"/company\">Company</a>,\n",
       " <a href=\"/company/contact-us\">Contact Us</a>,\n",
       " <a href=\"https://blog.cloudconnect.net/\">CloudConnect Blog</a>,\n",
       " <a href=\"/company/honors-awards\">CloudConnect Honors &amp; Awards</a>,\n",
       " <a class=\"uber\" href=\"https://cloudconnectpartner.freshdesk.com/support/home\" style=\"float:left;\" target=\"_blank\">Support Portal</a>,\n",
       " <a href=\"/getting-started/partner-request\">Partner Request</a>,\n",
       " <a href=\"/getting-started/schedule-tutorial\">Schedule A Tutorial</a>,\n",
       " <a class=\"btngreen\" href=\"/infrastructure\">Learn More</a>,\n",
       " <a href=\"https://citrix.cloudconnect.net/vpn/index.html\">Log in to <br/>CloudConnect</a>,\n",
       " <a href=\"https://dds.cloudconnect.net/Citrix/DesktopWeb/clientDetection/downloadNative.aspx\">Log in to your <br/>partner gateway</a>,\n",
       " <a href=\"/hosted-desktop\">Click here</a>,\n",
       " <a href=\"/solutions\"><p>Solution Details</p>\n",
       " </a>,\n",
       " <a href=\"/frequently-asked-questions\"><p>FAQs</p>\n",
       " </a>,\n",
       " <a href=\"/getting-started\"><p>Getting Started</p>\n",
       " </a>,\n",
       " <a href=\"https://cloudconnect.net/platform/resources\">The Resources You Need</a>,\n",
       " <a href=\"https://cloudconnect.net/platform/the-hosted-solution-for-business\">The Hosted Solution for Business</a>,\n",
       " <a href=\"https://cloudconnect.net/platform/performance\">Performance</a>,\n",
       " <a href=\"https://cloudconnect.net/platform/best-of-both-worlds\">Best of Both Worlds</a>,\n",
       " <a href=\"https://cloudconnect.net/platform/use-or-build\">Use or Build?</a>,\n",
       " <a href=\"https://cloudconnect.net/solutions\"><img alt=\"Get insight in to CloudConnect\" height=\"216\" src=\"img/col-contact.jpg\" width=\"351\"/></a>,\n",
       " <a href=\"#\"><img alt=\"Microsoft\" height=\"31\" src=\"img/partner-microsoft.png\" width=\"109\"/></a>,\n",
       " <a href=\"#\"><img alt=\"Citrix Partner\" height=\"70\" src=\"img/partner-citrix.png\" width=\"100\"/></a>,\n",
       " <a href=\"#\"><img alt=\"VMWare Partner\" height=\"50\" src=\"img/partner-vmware.png\" width=\"109\"/></a>,\n",
       " <a href=\"https://www.facebook.com/CloudConnect-229287883752491/\" target=\"_blank\"><img alt=\"\" height=\"31\" src=\"/img/social-fb.png\" width=\"15\"/></a>,\n",
       " <a href=\"https://www.linkedin.com/company/cloudconnect\" target=\"_blank\"><img alt=\"\" height=\"26\" src=\"/img/social-llinkedin.png\" width=\"29\"/></a>,\n",
       " <a href=\"https://twitter.com/goCloudConnect\" target=\"_blank\"><img alt=\"\" height=\"25\" src=\"/img/social-twitter.png\" width=\"32\"/></a>,\n",
       " <a href=\"/company/terms\">Terms of Service</a>,\n",
       " <a href=\"/company/why-cloudconnect\">Why CloudConnect?</a>,\n",
       " <a href=\"/company/contact-us\">Contact</a>]"
      ]
     },
     "execution_count": 17,
     "metadata": {},
     "output_type": "execute_result"
    }
   ],
   "source": [
    "soup.find_all('a')"
   ]
  },
  {
   "cell_type": "code",
   "execution_count": 18,
   "metadata": {},
   "outputs": [
    {
     "name": "stdout",
     "output_type": "stream",
     "text": [
      "got url: /\n",
      "got url: https://cloudconnectpartner.freshdesk.com/support/home\n",
      "got url: https://iqmap.cloudconnect.net\n",
      "got url: https://citrix.cloudconnect.net/vpn/index.html\n",
      "got url: /solutions\n",
      "got url: /solutions/virtual-desktop\n",
      "got url: /solutions/virtual-server\n",
      "got url: /solutions/msp-cloud\n",
      "got url: /solutions/private-domain\n",
      "got url: /partner-program\n",
      "got url: /partner-program/management-portal\n",
      "got url: /partner-program/resources\n",
      "got url: /partner-program/iqmap\n",
      "got url: /partner-program/training\n",
      "got url: /infrastructure\n",
      "got url: /infrastructure/choose-your-architecture\n",
      "got url: /infrastructure/select-your-profile\n",
      "got url: /infrastructure/the-network\n",
      "got url: /getting-started\n",
      "got url: /getting-started/iqmap-registration\n",
      "got url: /getting-started/design-an-environment\n",
      "got url: /getting-started/partner-enrollment\n",
      "got url: /getting-started/schedule-tutorial\n",
      "got url: /company\n",
      "got url: /company/contact-us\n",
      "got url: https://blog.cloudconnect.net/\n",
      "got url: /company/honors-awards\n",
      "got url: https://cloudconnectpartner.freshdesk.com/support/home\n",
      "got url: /getting-started/partner-request\n",
      "got url: /getting-started/schedule-tutorial\n",
      "got url: /infrastructure\n",
      "got url: https://citrix.cloudconnect.net/vpn/index.html\n",
      "got url: https://dds.cloudconnect.net/Citrix/DesktopWeb/clientDetection/downloadNative.aspx\n",
      "got url: /hosted-desktop\n",
      "got url: /solutions\n",
      "got url: /frequently-asked-questions\n",
      "got url: /getting-started\n",
      "got url: https://cloudconnect.net/platform/resources\n",
      "got url: https://cloudconnect.net/platform/the-hosted-solution-for-business\n",
      "got url: https://cloudconnect.net/platform/performance\n",
      "got url: https://cloudconnect.net/platform/best-of-both-worlds\n",
      "got url: https://cloudconnect.net/platform/use-or-build\n",
      "got url: https://cloudconnect.net/solutions\n",
      "got url: #\n",
      "got url: #\n",
      "got url: #\n",
      "got url: https://www.facebook.com/CloudConnect-229287883752491/\n",
      "got url: https://www.linkedin.com/company/cloudconnect\n",
      "got url: https://twitter.com/goCloudConnect\n",
      "got url: /company/terms\n",
      "got url: /company/why-cloudconnect\n",
      "got url: /company/contact-us\n"
     ]
    }
   ],
   "source": [
    "for a in soup.find_all('a', href=True):print (\"got url:\",a['href'])"
   ]
  },
  {
   "cell_type": "code",
   "execution_count": 19,
   "metadata": {},
   "outputs": [
    {
     "name": "stdout",
     "output_type": "stream",
     "text": [
      "url: /  , Description: \n",
      "url: https://cloudconnectpartner.freshdesk.com/support/home  , Description: Support Portal\n",
      "url: https://iqmap.cloudconnect.net  , Description: IQMAP Login\n",
      "url: https://citrix.cloudconnect.net/vpn/index.html  , Description: Desktop Login\n",
      "url: /solutions  , Description: Cloud Solutions\n",
      "url: /solutions/virtual-desktop  , Description: Cloud Desktop\n",
      "url: /solutions/virtual-server  , Description: Cloud Infrastructure\n",
      "url: /solutions/msp-cloud  , Description: mspCloud\n",
      "url: /solutions/private-domain  , Description: Private Domain\n",
      "url: /partner-program  , Description: Partner Program\n",
      "url: /partner-program/management-portal  , Description: Management Portal\n",
      "url: /partner-program/resources  , Description: Partner Resources\n",
      "url: /partner-program/iqmap  , Description: IQMAP\n",
      "url: /partner-program/training  , Description: Training\n",
      "url: /infrastructure  , Description: Infrastructure\n",
      "url: /infrastructure/choose-your-architecture  , Description: Choose Your Architecture\n",
      "url: /infrastructure/select-your-profile  , Description: Select Your Storage Policy\n",
      "url: /infrastructure/the-network  , Description: Learn About the Network\n",
      "url: /getting-started  , Description: Getting Started\n",
      "url: /getting-started/iqmap-registration  , Description: IQMAP Registration\n",
      "url: /getting-started/design-an-environment  , Description: Design an Environment\n",
      "url: /getting-started/partner-enrollment  , Description: Partner Enrollment\n",
      "url: /getting-started/schedule-tutorial  , Description: Schedule a Tutorial\n",
      "url: /company  , Description: Company\n",
      "url: /company/contact-us  , Description: Contact Us\n",
      "url: https://blog.cloudconnect.net/  , Description: CloudConnect Blog\n",
      "url: /company/honors-awards  , Description: CloudConnect Honors & Awards\n",
      "url: https://cloudconnectpartner.freshdesk.com/support/home  , Description: Support Portal\n",
      "url: /getting-started/partner-request  , Description: Partner Request\n",
      "url: /getting-started/schedule-tutorial  , Description: Schedule A Tutorial\n",
      "url: /infrastructure  , Description: Learn More\n",
      "url: https://citrix.cloudconnect.net/vpn/index.html  , Description: Log in to CloudConnect\n",
      "url: https://dds.cloudconnect.net/Citrix/DesktopWeb/clientDetection/downloadNative.aspx  , Description: Log in to your partner gateway\n",
      "url: /hosted-desktop  , Description: Click here\n",
      "url: /solutions  , Description: Solution Details\n",
      "\n",
      "url: /frequently-asked-questions  , Description: FAQs\n",
      "\n",
      "url: /getting-started  , Description: Getting Started\n",
      "\n",
      "url: https://cloudconnect.net/platform/resources  , Description: The Resources You Need\n",
      "url: https://cloudconnect.net/platform/the-hosted-solution-for-business  , Description: The Hosted Solution for Business\n",
      "url: https://cloudconnect.net/platform/performance  , Description: Performance\n",
      "url: https://cloudconnect.net/platform/best-of-both-worlds  , Description: Best of Both Worlds\n",
      "url: https://cloudconnect.net/platform/use-or-build  , Description: Use or Build?\n",
      "url: https://cloudconnect.net/solutions  , Description: \n",
      "url: #  , Description: \n",
      "url: #  , Description: \n",
      "url: #  , Description: \n",
      "url: https://www.facebook.com/CloudConnect-229287883752491/  , Description: \n",
      "url: https://www.linkedin.com/company/cloudconnect  , Description: \n",
      "url: https://twitter.com/goCloudConnect  , Description: \n",
      "url: /company/terms  , Description: Terms of Service\n",
      "url: /company/why-cloudconnect  , Description: Why CloudConnect?\n",
      "url: /company/contact-us  , Description: Contact\n"
     ]
    }
   ],
   "source": [
    "for a in soup.find_all('a', href=True):print (\"url:\",a['href'],\" , Description:\", a.text)"
   ]
  },
  {
   "cell_type": "code",
   "execution_count": 21,
   "metadata": {},
   "outputs": [],
   "source": [
    "f.writerow(['URL','Description','Validity','Last Updated'])\n",
    "file.flush()\n",
    "for link in soup.find_all('a', href=True):\n",
    "    if link['href'].startswith('http'):\n",
    "        \n",
    "         #print(valid)\n",
    "        if pool.request('GET', link['href']).status == 200:\n",
    "            #print(1)\n",
    "            Valid = \"True\"\n",
    "            f.writerow([link['href'],link.string,Valid,time.strftime(\"%H:%M:%S\")])\n",
    "            file.flush()\n",
    "        else:\n",
    "            Valid = \"False\"\n",
    "            f.writerow([link['href'],link.string,Valid,time.strftime(\"%H:%M:%S\")])\n",
    "            file.flush()\n",
    "            \n",
    "file.close()   "
   ]
  },
  {
   "cell_type": "code",
   "execution_count": null,
   "metadata": {
    "collapsed": true
   },
   "outputs": [],
   "source": []
  }
 ],
 "metadata": {
  "kernelspec": {
   "display_name": "Python 3",
   "language": "python",
   "name": "python3"
  },
  "language_info": {
   "codemirror_mode": {
    "name": "ipython",
    "version": 3
   },
   "file_extension": ".py",
   "mimetype": "text/x-python",
   "name": "python",
   "nbconvert_exporter": "python",
   "pygments_lexer": "ipython3",
   "version": "3.6.1"
  }
 },
 "nbformat": 4,
 "nbformat_minor": 2
}
